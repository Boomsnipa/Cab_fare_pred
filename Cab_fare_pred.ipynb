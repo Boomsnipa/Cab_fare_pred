{
 "cells": [
  {
   "cell_type": "code",
   "execution_count": 117,
   "id": "a8e0ffa8",
   "metadata": {},
   "outputs": [],
   "source": [
    "import numpy as np\n",
    "import pandas as pd\n",
    "import seaborn as sns\n",
    "import matplotlib.pyplot as plt\n",
    "from sklearn.model_selection import train_test_split"
   ]
  },
  {
   "cell_type": "code",
   "execution_count": 118,
   "id": "3268ee6f",
   "metadata": {},
   "outputs": [],
   "source": [
    "df=pd.read_csv(\"C:\\\\Users\\\\anura\\\\Desktop\\\\SYMBIOSIS\\\\SEM 4\\\\Mini-Proj(SML)\\\\uber.csv\")"
   ]
  },
  {
   "cell_type": "code",
   "execution_count": 119,
   "id": "f55b5849",
   "metadata": {},
   "outputs": [
    {
     "data": {
      "text/html": [
       "<div>\n",
       "<style scoped>\n",
       "    .dataframe tbody tr th:only-of-type {\n",
       "        vertical-align: middle;\n",
       "    }\n",
       "\n",
       "    .dataframe tbody tr th {\n",
       "        vertical-align: top;\n",
       "    }\n",
       "\n",
       "    .dataframe thead th {\n",
       "        text-align: right;\n",
       "    }\n",
       "</style>\n",
       "<table border=\"1\" class=\"dataframe\">\n",
       "  <thead>\n",
       "    <tr style=\"text-align: right;\">\n",
       "      <th></th>\n",
       "      <th>Unnamed: 0</th>\n",
       "      <th>key</th>\n",
       "      <th>fare_amount</th>\n",
       "      <th>pickup_datetime</th>\n",
       "      <th>pickup_longitude</th>\n",
       "      <th>pickup_latitude</th>\n",
       "      <th>dropoff_longitude</th>\n",
       "      <th>dropoff_latitude</th>\n",
       "      <th>passenger_count</th>\n",
       "    </tr>\n",
       "  </thead>\n",
       "  <tbody>\n",
       "    <tr>\n",
       "      <th>0</th>\n",
       "      <td>24238194</td>\n",
       "      <td>2015-05-07 19:52:06.0000003</td>\n",
       "      <td>7.5</td>\n",
       "      <td>2015-05-07 19:52:06 UTC</td>\n",
       "      <td>-73.999817</td>\n",
       "      <td>40.738354</td>\n",
       "      <td>-73.999512</td>\n",
       "      <td>40.723217</td>\n",
       "      <td>1</td>\n",
       "    </tr>\n",
       "    <tr>\n",
       "      <th>1</th>\n",
       "      <td>27835199</td>\n",
       "      <td>2009-07-17 20:04:56.0000002</td>\n",
       "      <td>7.7</td>\n",
       "      <td>2009-07-17 20:04:56 UTC</td>\n",
       "      <td>-73.994355</td>\n",
       "      <td>40.728225</td>\n",
       "      <td>-73.994710</td>\n",
       "      <td>40.750325</td>\n",
       "      <td>1</td>\n",
       "    </tr>\n",
       "    <tr>\n",
       "      <th>2</th>\n",
       "      <td>44984355</td>\n",
       "      <td>2009-08-24 21:45:00.00000061</td>\n",
       "      <td>12.9</td>\n",
       "      <td>2009-08-24 21:45:00 UTC</td>\n",
       "      <td>-74.005043</td>\n",
       "      <td>40.740770</td>\n",
       "      <td>-73.962565</td>\n",
       "      <td>40.772647</td>\n",
       "      <td>1</td>\n",
       "    </tr>\n",
       "    <tr>\n",
       "      <th>3</th>\n",
       "      <td>25894730</td>\n",
       "      <td>2009-06-26 08:22:21.0000001</td>\n",
       "      <td>5.3</td>\n",
       "      <td>2009-06-26 08:22:21 UTC</td>\n",
       "      <td>-73.976124</td>\n",
       "      <td>40.790844</td>\n",
       "      <td>-73.965316</td>\n",
       "      <td>40.803349</td>\n",
       "      <td>3</td>\n",
       "    </tr>\n",
       "    <tr>\n",
       "      <th>4</th>\n",
       "      <td>17610152</td>\n",
       "      <td>2014-08-28 17:47:00.000000188</td>\n",
       "      <td>16.0</td>\n",
       "      <td>2014-08-28 17:47:00 UTC</td>\n",
       "      <td>-73.925023</td>\n",
       "      <td>40.744085</td>\n",
       "      <td>-73.973082</td>\n",
       "      <td>40.761247</td>\n",
       "      <td>5</td>\n",
       "    </tr>\n",
       "  </tbody>\n",
       "</table>\n",
       "</div>"
      ],
      "text/plain": [
       "   Unnamed: 0                            key  fare_amount  \\\n",
       "0    24238194    2015-05-07 19:52:06.0000003          7.5   \n",
       "1    27835199    2009-07-17 20:04:56.0000002          7.7   \n",
       "2    44984355   2009-08-24 21:45:00.00000061         12.9   \n",
       "3    25894730    2009-06-26 08:22:21.0000001          5.3   \n",
       "4    17610152  2014-08-28 17:47:00.000000188         16.0   \n",
       "\n",
       "           pickup_datetime  pickup_longitude  pickup_latitude  \\\n",
       "0  2015-05-07 19:52:06 UTC        -73.999817        40.738354   \n",
       "1  2009-07-17 20:04:56 UTC        -73.994355        40.728225   \n",
       "2  2009-08-24 21:45:00 UTC        -74.005043        40.740770   \n",
       "3  2009-06-26 08:22:21 UTC        -73.976124        40.790844   \n",
       "4  2014-08-28 17:47:00 UTC        -73.925023        40.744085   \n",
       "\n",
       "   dropoff_longitude  dropoff_latitude  passenger_count  \n",
       "0         -73.999512         40.723217                1  \n",
       "1         -73.994710         40.750325                1  \n",
       "2         -73.962565         40.772647                1  \n",
       "3         -73.965316         40.803349                3  \n",
       "4         -73.973082         40.761247                5  "
      ]
     },
     "execution_count": 119,
     "metadata": {},
     "output_type": "execute_result"
    }
   ],
   "source": [
    "df.head()"
   ]
  },
  {
   "cell_type": "code",
   "execution_count": 120,
   "id": "d6aa4aea",
   "metadata": {},
   "outputs": [
    {
     "data": {
      "text/plain": [
       "Unnamed: 0           0\n",
       "key                  0\n",
       "fare_amount          0\n",
       "pickup_datetime      0\n",
       "pickup_longitude     0\n",
       "pickup_latitude      0\n",
       "dropoff_longitude    1\n",
       "dropoff_latitude     1\n",
       "passenger_count      0\n",
       "dtype: int64"
      ]
     },
     "execution_count": 120,
     "metadata": {},
     "output_type": "execute_result"
    }
   ],
   "source": [
    "df.isna().sum()"
   ]
  },
  {
   "cell_type": "code",
   "execution_count": 121,
   "id": "ca96a032",
   "metadata": {},
   "outputs": [],
   "source": [
    "#replacing null values\n",
    "for col in df.columns:\n",
    "    if df[col].dtypes=='float64':\n",
    "       df[col] = df[col].fillna(0)"
   ]
  },
  {
   "cell_type": "code",
   "execution_count": 122,
   "id": "f7030f70",
   "metadata": {},
   "outputs": [
    {
     "data": {
      "text/html": [
       "<div>\n",
       "<style scoped>\n",
       "    .dataframe tbody tr th:only-of-type {\n",
       "        vertical-align: middle;\n",
       "    }\n",
       "\n",
       "    .dataframe tbody tr th {\n",
       "        vertical-align: top;\n",
       "    }\n",
       "\n",
       "    .dataframe thead th {\n",
       "        text-align: right;\n",
       "    }\n",
       "</style>\n",
       "<table border=\"1\" class=\"dataframe\">\n",
       "  <thead>\n",
       "    <tr style=\"text-align: right;\">\n",
       "      <th></th>\n",
       "      <th>fare_amount</th>\n",
       "      <th>pickup_datetime</th>\n",
       "      <th>pickup_longitude</th>\n",
       "      <th>pickup_latitude</th>\n",
       "      <th>dropoff_longitude</th>\n",
       "      <th>dropoff_latitude</th>\n",
       "      <th>passenger_count</th>\n",
       "    </tr>\n",
       "  </thead>\n",
       "  <tbody>\n",
       "    <tr>\n",
       "      <th>0</th>\n",
       "      <td>7.5</td>\n",
       "      <td>2015-05-07 19:52:06 UTC</td>\n",
       "      <td>-73.999817</td>\n",
       "      <td>40.738354</td>\n",
       "      <td>-73.999512</td>\n",
       "      <td>40.723217</td>\n",
       "      <td>1</td>\n",
       "    </tr>\n",
       "    <tr>\n",
       "      <th>1</th>\n",
       "      <td>7.7</td>\n",
       "      <td>2009-07-17 20:04:56 UTC</td>\n",
       "      <td>-73.994355</td>\n",
       "      <td>40.728225</td>\n",
       "      <td>-73.994710</td>\n",
       "      <td>40.750325</td>\n",
       "      <td>1</td>\n",
       "    </tr>\n",
       "    <tr>\n",
       "      <th>2</th>\n",
       "      <td>12.9</td>\n",
       "      <td>2009-08-24 21:45:00 UTC</td>\n",
       "      <td>-74.005043</td>\n",
       "      <td>40.740770</td>\n",
       "      <td>-73.962565</td>\n",
       "      <td>40.772647</td>\n",
       "      <td>1</td>\n",
       "    </tr>\n",
       "    <tr>\n",
       "      <th>3</th>\n",
       "      <td>5.3</td>\n",
       "      <td>2009-06-26 08:22:21 UTC</td>\n",
       "      <td>-73.976124</td>\n",
       "      <td>40.790844</td>\n",
       "      <td>-73.965316</td>\n",
       "      <td>40.803349</td>\n",
       "      <td>3</td>\n",
       "    </tr>\n",
       "    <tr>\n",
       "      <th>4</th>\n",
       "      <td>16.0</td>\n",
       "      <td>2014-08-28 17:47:00 UTC</td>\n",
       "      <td>-73.925023</td>\n",
       "      <td>40.744085</td>\n",
       "      <td>-73.973082</td>\n",
       "      <td>40.761247</td>\n",
       "      <td>5</td>\n",
       "    </tr>\n",
       "  </tbody>\n",
       "</table>\n",
       "</div>"
      ],
      "text/plain": [
       "   fare_amount          pickup_datetime  pickup_longitude  pickup_latitude  \\\n",
       "0          7.5  2015-05-07 19:52:06 UTC        -73.999817        40.738354   \n",
       "1          7.7  2009-07-17 20:04:56 UTC        -73.994355        40.728225   \n",
       "2         12.9  2009-08-24 21:45:00 UTC        -74.005043        40.740770   \n",
       "3          5.3  2009-06-26 08:22:21 UTC        -73.976124        40.790844   \n",
       "4         16.0  2014-08-28 17:47:00 UTC        -73.925023        40.744085   \n",
       "\n",
       "   dropoff_longitude  dropoff_latitude  passenger_count  \n",
       "0         -73.999512         40.723217                1  \n",
       "1         -73.994710         40.750325                1  \n",
       "2         -73.962565         40.772647                1  \n",
       "3         -73.965316         40.803349                3  \n",
       "4         -73.973082         40.761247                5  "
      ]
     },
     "metadata": {},
     "output_type": "display_data"
    }
   ],
   "source": [
    "df.drop(['Unnamed: 0','key'],axis=1,inplace=True)\n",
    "display(df.head())"
   ]
  },
  {
   "cell_type": "code",
   "execution_count": 123,
   "id": "c5c7752c",
   "metadata": {},
   "outputs": [
    {
     "name": "stdout",
     "output_type": "stream",
     "text": [
      "                   Total Null Values  Percentage\n",
      "fare_amount                        0         0.0\n",
      "pickup_datetime                    0         0.0\n",
      "pickup_longitude                   0         0.0\n",
      "pickup_latitude                    0         0.0\n",
      "dropoff_longitude                  0         0.0\n",
      "dropoff_latitude                   0         0.0\n",
      "passenger_count                    0         0.0\n"
     ]
    }
   ],
   "source": [
    "nvc=pd.DataFrame(df.isnull().sum().sort_values(),columns=['Total Null Values'])\n",
    "nvc['Percentage']=round(nvc['Total Null Values']/df.shape[0],3)*100\n",
    "print(nvc)\n",
    "df.dropna(inplace=True)"
   ]
  },
  {
   "cell_type": "code",
   "execution_count": 124,
   "id": "06f52e2d",
   "metadata": {},
   "outputs": [
    {
     "data": {
      "text/plain": [
       "fare_amount          0\n",
       "pickup_datetime      0\n",
       "pickup_longitude     0\n",
       "pickup_latitude      0\n",
       "dropoff_longitude    0\n",
       "dropoff_latitude     0\n",
       "passenger_count      0\n",
       "dtype: int64"
      ]
     },
     "execution_count": 124,
     "metadata": {},
     "output_type": "execute_result"
    }
   ],
   "source": [
    "df.isna().sum()"
   ]
  },
  {
   "cell_type": "code",
   "execution_count": 125,
   "id": "0fc5132a",
   "metadata": {},
   "outputs": [
    {
     "data": {
      "text/plain": [
       "passenger_count           8\n",
       "fare_amount            1244\n",
       "pickup_longitude      71066\n",
       "dropoff_longitude     76894\n",
       "pickup_latitude       83835\n",
       "dropoff_latitude      90585\n",
       "pickup_datetime      196629\n",
       "dtype: int64"
      ]
     },
     "execution_count": 125,
     "metadata": {},
     "output_type": "execute_result"
    }
   ],
   "source": [
    "df.nunique().sort_values()"
   ]
  },
  {
   "cell_type": "code",
   "execution_count": 126,
   "id": "963e5651",
   "metadata": {},
   "outputs": [
    {
     "data": {
      "text/html": [
       "<div>\n",
       "<style scoped>\n",
       "    .dataframe tbody tr th:only-of-type {\n",
       "        vertical-align: middle;\n",
       "    }\n",
       "\n",
       "    .dataframe tbody tr th {\n",
       "        vertical-align: top;\n",
       "    }\n",
       "\n",
       "    .dataframe thead th {\n",
       "        text-align: right;\n",
       "    }\n",
       "</style>\n",
       "<table border=\"1\" class=\"dataframe\">\n",
       "  <thead>\n",
       "    <tr style=\"text-align: right;\">\n",
       "      <th></th>\n",
       "      <th>fare_amount</th>\n",
       "      <th>pickup_longitude</th>\n",
       "      <th>pickup_latitude</th>\n",
       "      <th>dropoff_longitude</th>\n",
       "      <th>dropoff_latitude</th>\n",
       "      <th>passenger_count</th>\n",
       "    </tr>\n",
       "  </thead>\n",
       "  <tbody>\n",
       "    <tr>\n",
       "      <th>count</th>\n",
       "      <td>200000.000000</td>\n",
       "      <td>200000.000000</td>\n",
       "      <td>200000.000000</td>\n",
       "      <td>200000.000000</td>\n",
       "      <td>200000.000000</td>\n",
       "      <td>200000.000000</td>\n",
       "    </tr>\n",
       "    <tr>\n",
       "      <th>mean</th>\n",
       "      <td>11.359955</td>\n",
       "      <td>-72.527638</td>\n",
       "      <td>39.935885</td>\n",
       "      <td>-72.524929</td>\n",
       "      <td>39.923691</td>\n",
       "      <td>1.684535</td>\n",
       "    </tr>\n",
       "    <tr>\n",
       "      <th>std</th>\n",
       "      <td>9.901776</td>\n",
       "      <td>11.437787</td>\n",
       "      <td>7.720539</td>\n",
       "      <td>13.118377</td>\n",
       "      <td>6.795398</td>\n",
       "      <td>1.385997</td>\n",
       "    </tr>\n",
       "    <tr>\n",
       "      <th>min</th>\n",
       "      <td>-52.000000</td>\n",
       "      <td>-1340.648410</td>\n",
       "      <td>-74.015515</td>\n",
       "      <td>-3356.666300</td>\n",
       "      <td>-881.985513</td>\n",
       "      <td>0.000000</td>\n",
       "    </tr>\n",
       "    <tr>\n",
       "      <th>25%</th>\n",
       "      <td>6.000000</td>\n",
       "      <td>-73.992065</td>\n",
       "      <td>40.734796</td>\n",
       "      <td>-73.991407</td>\n",
       "      <td>40.733823</td>\n",
       "      <td>1.000000</td>\n",
       "    </tr>\n",
       "    <tr>\n",
       "      <th>50%</th>\n",
       "      <td>8.500000</td>\n",
       "      <td>-73.981823</td>\n",
       "      <td>40.752592</td>\n",
       "      <td>-73.980093</td>\n",
       "      <td>40.753042</td>\n",
       "      <td>1.000000</td>\n",
       "    </tr>\n",
       "    <tr>\n",
       "      <th>75%</th>\n",
       "      <td>12.500000</td>\n",
       "      <td>-73.967154</td>\n",
       "      <td>40.767158</td>\n",
       "      <td>-73.963658</td>\n",
       "      <td>40.768001</td>\n",
       "      <td>2.000000</td>\n",
       "    </tr>\n",
       "    <tr>\n",
       "      <th>max</th>\n",
       "      <td>499.000000</td>\n",
       "      <td>57.418457</td>\n",
       "      <td>1644.421482</td>\n",
       "      <td>1153.572603</td>\n",
       "      <td>872.697628</td>\n",
       "      <td>208.000000</td>\n",
       "    </tr>\n",
       "  </tbody>\n",
       "</table>\n",
       "</div>"
      ],
      "text/plain": [
       "         fare_amount  pickup_longitude  pickup_latitude  dropoff_longitude  \\\n",
       "count  200000.000000     200000.000000    200000.000000      200000.000000   \n",
       "mean       11.359955        -72.527638        39.935885         -72.524929   \n",
       "std         9.901776         11.437787         7.720539          13.118377   \n",
       "min       -52.000000      -1340.648410       -74.015515       -3356.666300   \n",
       "25%         6.000000        -73.992065        40.734796         -73.991407   \n",
       "50%         8.500000        -73.981823        40.752592         -73.980093   \n",
       "75%        12.500000        -73.967154        40.767158         -73.963658   \n",
       "max       499.000000         57.418457      1644.421482        1153.572603   \n",
       "\n",
       "       dropoff_latitude  passenger_count  \n",
       "count     200000.000000    200000.000000  \n",
       "mean          39.923691         1.684535  \n",
       "std            6.795398         1.385997  \n",
       "min         -881.985513         0.000000  \n",
       "25%           40.733823         1.000000  \n",
       "50%           40.753042         1.000000  \n",
       "75%           40.768001         2.000000  \n",
       "max          872.697628       208.000000  "
      ]
     },
     "metadata": {},
     "output_type": "display_data"
    }
   ],
   "source": [
    "display(df.describe())\n",
    "# df.describe()"
   ]
  },
  {
   "cell_type": "code",
   "execution_count": 127,
   "id": "abe0a709",
   "metadata": {},
   "outputs": [
    {
     "data": {
      "text/plain": [
       "array([[<AxesSubplot:xlabel='fare_amount', ylabel='fare_amount'>,\n",
       "        <AxesSubplot:xlabel='pickup_longitude', ylabel='fare_amount'>,\n",
       "        <AxesSubplot:xlabel='pickup_latitude', ylabel='fare_amount'>,\n",
       "        <AxesSubplot:xlabel='dropoff_longitude', ylabel='fare_amount'>,\n",
       "        <AxesSubplot:xlabel='dropoff_latitude', ylabel='fare_amount'>,\n",
       "        <AxesSubplot:xlabel='passenger_count', ylabel='fare_amount'>],\n",
       "       [<AxesSubplot:xlabel='fare_amount', ylabel='pickup_longitude'>,\n",
       "        <AxesSubplot:xlabel='pickup_longitude', ylabel='pickup_longitude'>,\n",
       "        <AxesSubplot:xlabel='pickup_latitude', ylabel='pickup_longitude'>,\n",
       "        <AxesSubplot:xlabel='dropoff_longitude', ylabel='pickup_longitude'>,\n",
       "        <AxesSubplot:xlabel='dropoff_latitude', ylabel='pickup_longitude'>,\n",
       "        <AxesSubplot:xlabel='passenger_count', ylabel='pickup_longitude'>],\n",
       "       [<AxesSubplot:xlabel='fare_amount', ylabel='pickup_latitude'>,\n",
       "        <AxesSubplot:xlabel='pickup_longitude', ylabel='pickup_latitude'>,\n",
       "        <AxesSubplot:xlabel='pickup_latitude', ylabel='pickup_latitude'>,\n",
       "        <AxesSubplot:xlabel='dropoff_longitude', ylabel='pickup_latitude'>,\n",
       "        <AxesSubplot:xlabel='dropoff_latitude', ylabel='pickup_latitude'>,\n",
       "        <AxesSubplot:xlabel='passenger_count', ylabel='pickup_latitude'>],\n",
       "       [<AxesSubplot:xlabel='fare_amount', ylabel='dropoff_longitude'>,\n",
       "        <AxesSubplot:xlabel='pickup_longitude', ylabel='dropoff_longitude'>,\n",
       "        <AxesSubplot:xlabel='pickup_latitude', ylabel='dropoff_longitude'>,\n",
       "        <AxesSubplot:xlabel='dropoff_longitude', ylabel='dropoff_longitude'>,\n",
       "        <AxesSubplot:xlabel='dropoff_latitude', ylabel='dropoff_longitude'>,\n",
       "        <AxesSubplot:xlabel='passenger_count', ylabel='dropoff_longitude'>],\n",
       "       [<AxesSubplot:xlabel='fare_amount', ylabel='dropoff_latitude'>,\n",
       "        <AxesSubplot:xlabel='pickup_longitude', ylabel='dropoff_latitude'>,\n",
       "        <AxesSubplot:xlabel='pickup_latitude', ylabel='dropoff_latitude'>,\n",
       "        <AxesSubplot:xlabel='dropoff_longitude', ylabel='dropoff_latitude'>,\n",
       "        <AxesSubplot:xlabel='dropoff_latitude', ylabel='dropoff_latitude'>,\n",
       "        <AxesSubplot:xlabel='passenger_count', ylabel='dropoff_latitude'>],\n",
       "       [<AxesSubplot:xlabel='fare_amount', ylabel='passenger_count'>,\n",
       "        <AxesSubplot:xlabel='pickup_longitude', ylabel='passenger_count'>,\n",
       "        <AxesSubplot:xlabel='pickup_latitude', ylabel='passenger_count'>,\n",
       "        <AxesSubplot:xlabel='dropoff_longitude', ylabel='passenger_count'>,\n",
       "        <AxesSubplot:xlabel='dropoff_latitude', ylabel='passenger_count'>,\n",
       "        <AxesSubplot:xlabel='passenger_count', ylabel='passenger_count'>]],\n",
       "      dtype=object)"
      ]
     },
     "execution_count": 127,
     "metadata": {},
     "output_type": "execute_result"
    },
    {
     "data": {
      "image/png": "[encoded data removed]",
      "text/plain": [
       "<Figure size 432x288 with 36 Axes>"
      ]
     },
     "metadata": {
      "needs_background": "light"
     },
     "output_type": "display_data"
    }
   ],
   "source": [
    "pd.plotting.scatter_matrix(df,alpha=0.2)"
   ]
  },
  {
   "cell_type": "code",
   "execution_count": 128,
   "id": "e1c0fc20",
   "metadata": {},
   "outputs": [
    {
     "data": {
      "text/html": [
       "<div>\n",
       "<style scoped>\n",
       "    .dataframe tbody tr th:only-of-type {\n",
       "        vertical-align: middle;\n",
       "    }\n",
       "\n",
       "    .dataframe tbody tr th {\n",
       "        vertical-align: top;\n",
       "    }\n",
       "\n",
       "    .dataframe thead th {\n",
       "        text-align: right;\n",
       "    }\n",
       "</style>\n",
       "<table border=\"1\" class=\"dataframe\">\n",
       "  <thead>\n",
       "    <tr style=\"text-align: right;\">\n",
       "      <th></th>\n",
       "      <th>fare_amount</th>\n",
       "      <th>pickup_longitude</th>\n",
       "      <th>pickup_latitude</th>\n",
       "      <th>dropoff_longitude</th>\n",
       "      <th>dropoff_latitude</th>\n",
       "      <th>passenger_count</th>\n",
       "    </tr>\n",
       "  </thead>\n",
       "  <tbody>\n",
       "    <tr>\n",
       "      <th>fare_amount</th>\n",
       "      <td>1.000000</td>\n",
       "      <td>0.010457</td>\n",
       "      <td>-0.008481</td>\n",
       "      <td>9.020775e-03</td>\n",
       "      <td>-0.011050</td>\n",
       "      <td>1.014993e-02</td>\n",
       "    </tr>\n",
       "    <tr>\n",
       "      <th>pickup_longitude</th>\n",
       "      <td>0.010457</td>\n",
       "      <td>1.000000</td>\n",
       "      <td>-0.816461</td>\n",
       "      <td>8.329590e-01</td>\n",
       "      <td>-0.846247</td>\n",
       "      <td>-4.143855e-04</td>\n",
       "    </tr>\n",
       "    <tr>\n",
       "      <th>pickup_latitude</th>\n",
       "      <td>-0.008481</td>\n",
       "      <td>-0.816461</td>\n",
       "      <td>1.000000</td>\n",
       "      <td>-7.747251e-01</td>\n",
       "      <td>0.702303</td>\n",
       "      <td>-1.559842e-03</td>\n",
       "    </tr>\n",
       "    <tr>\n",
       "      <th>dropoff_longitude</th>\n",
       "      <td>0.009021</td>\n",
       "      <td>0.832959</td>\n",
       "      <td>-0.774725</td>\n",
       "      <td>1.000000e+00</td>\n",
       "      <td>-0.917024</td>\n",
       "      <td>-6.946897e-07</td>\n",
       "    </tr>\n",
       "    <tr>\n",
       "      <th>dropoff_latitude</th>\n",
       "      <td>-0.011050</td>\n",
       "      <td>-0.846247</td>\n",
       "      <td>0.702303</td>\n",
       "      <td>-9.170237e-01</td>\n",
       "      <td>1.000000</td>\n",
       "      <td>-6.235190e-04</td>\n",
       "    </tr>\n",
       "    <tr>\n",
       "      <th>passenger_count</th>\n",
       "      <td>0.010150</td>\n",
       "      <td>-0.000414</td>\n",
       "      <td>-0.001560</td>\n",
       "      <td>-6.946897e-07</td>\n",
       "      <td>-0.000624</td>\n",
       "      <td>1.000000e+00</td>\n",
       "    </tr>\n",
       "  </tbody>\n",
       "</table>\n",
       "</div>"
      ],
      "text/plain": [
       "                   fare_amount  pickup_longitude  pickup_latitude  \\\n",
       "fare_amount           1.000000          0.010457        -0.008481   \n",
       "pickup_longitude      0.010457          1.000000        -0.816461   \n",
       "pickup_latitude      -0.008481         -0.816461         1.000000   \n",
       "dropoff_longitude     0.009021          0.832959        -0.774725   \n",
       "dropoff_latitude     -0.011050         -0.846247         0.702303   \n",
       "passenger_count       0.010150         -0.000414        -0.001560   \n",
       "\n",
       "                   dropoff_longitude  dropoff_latitude  passenger_count  \n",
       "fare_amount             9.020775e-03         -0.011050     1.014993e-02  \n",
       "pickup_longitude        8.329590e-01         -0.846247    -4.143855e-04  \n",
       "pickup_latitude        -7.747251e-01          0.702303    -1.559842e-03  \n",
       "dropoff_longitude       1.000000e+00         -0.917024    -6.946897e-07  \n",
       "dropoff_latitude       -9.170237e-01          1.000000    -6.235190e-04  \n",
       "passenger_count        -6.946897e-07         -0.000624     1.000000e+00  "
      ]
     },
     "execution_count": 128,
     "metadata": {},
     "output_type": "execute_result"
    }
   ],
   "source": [
    "df.corr()"
   ]
  },
  {
   "cell_type": "code",
   "execution_count": 129,
   "id": "94123b47",
   "metadata": {},
   "outputs": [
    {
     "name": "stdout",
     "output_type": "stream",
     "text": [
      "<class 'pandas.core.frame.DataFrame'>\n",
      "RangeIndex: 200000 entries, 0 to 199999\n",
      "Data columns (total 7 columns):\n",
      " #   Column             Non-Null Count   Dtype  \n",
      "---  ------             --------------   -----  \n",
      " 0   fare_amount        200000 non-null  float64\n",
      " 1   pickup_datetime    200000 non-null  object \n",
      " 2   pickup_longitude   200000 non-null  float64\n",
      " 3   pickup_latitude    200000 non-null  float64\n",
      " 4   dropoff_longitude  200000 non-null  float64\n",
      " 5   dropoff_latitude   200000 non-null  float64\n",
      " 6   passenger_count    200000 non-null  int64  \n",
      "dtypes: float64(5), int64(1), object(1)\n",
      "memory usage: 10.7+ MB\n"
     ]
    }
   ],
   "source": [
    "df.info()"
   ]
  },
  {
   "cell_type": "code",
   "execution_count": 130,
   "id": "ed9ec324",
   "metadata": {},
   "outputs": [
    {
     "data": {
      "text/plain": [
       "<AxesSubplot:>"
      ]
     },
     "execution_count": 130,
     "metadata": {},
     "output_type": "execute_result"
    },
    {
     "data": {
      "image/png": "[encoded data removed]",
      "text/plain": [
       "<Figure size 1080x1440 with 2 Axes>"
      ]
     },
     "metadata": {
      "needs_background": "light"
     },
     "output_type": "display_data"
    }
   ],
   "source": [
    "plt.figure(figsize=(15,20))\n",
    "sns.heatmap(df.corr(),annot=True,linewidth=0.2,vmin=-1,vmax=1,fmt='.2g')"
   ]
  },
  {
   "cell_type": "code",
   "execution_count": 131,
   "id": "caeecbc9",
   "metadata": {},
   "outputs": [],
   "source": [
    "from math import *"
   ]
  },
  {
   "cell_type": "code",
   "execution_count": 132,
   "id": "de5cc76e",
   "metadata": {},
   "outputs": [],
   "source": [
    "# Define formula to calculate haversine distance\n",
    "def distance(longitude1, latitude1, longitude2, latitude2):\n",
    "    travel_dist = []\n",
    "    \n",
    "    for pos in range(len(longitude1)):\n",
    "        long1,lati1,long2,lati2 = map(radians,[longitude1[pos],latitude1[pos],longitude2[pos],latitude2[pos]])\n",
    "        dist_long = long2 - long1\n",
    "        dist_lati = lati2 - lati1\n",
    "        a = sin(dist_lati/2)**2 + cos(lati1) * cos(lati2) * sin(dist_long/2)**2\n",
    "        c = 2 * asin(sqrt(a))*6371\n",
    "        travel_dist.append(c)\n",
    "       \n",
    "    return travel_dist"
   ]
  },
  {
   "cell_type": "code",
   "execution_count": 133,
   "id": "5e704be4",
   "metadata": {},
   "outputs": [],
   "source": [
    "# Calculate Haversine distance for each row and add distance in km as a new column\n",
    "df['distance_travelled'] = distance(df['pickup_longitude'].to_numpy(),\n",
    "         df['pickup_latitude'].to_numpy(),\n",
    "         df['dropoff_longitude'].to_numpy(),\n",
    "         df['dropoff_latitude'].to_numpy()\n",
    ")"
   ]
  },
  {
   "cell_type": "code",
   "execution_count": 134,
   "id": "4d578b80",
   "metadata": {},
   "outputs": [
    {
     "name": "stdout",
     "output_type": "stream",
     "text": [
      "<class 'pandas.core.frame.DataFrame'>\n",
      "RangeIndex: 200000 entries, 0 to 199999\n",
      "Data columns (total 8 columns):\n",
      " #   Column              Non-Null Count   Dtype  \n",
      "---  ------              --------------   -----  \n",
      " 0   fare_amount         200000 non-null  float64\n",
      " 1   pickup_datetime     200000 non-null  object \n",
      " 2   pickup_longitude    200000 non-null  float64\n",
      " 3   pickup_latitude     200000 non-null  float64\n",
      " 4   dropoff_longitude   200000 non-null  float64\n",
      " 5   dropoff_latitude    200000 non-null  float64\n",
      " 6   passenger_count     200000 non-null  int64  \n",
      " 7   distance_travelled  200000 non-null  float64\n",
      "dtypes: float64(6), int64(1), object(1)\n",
      "memory usage: 12.2+ MB\n"
     ]
    }
   ],
   "source": [
    "df.info()"
   ]
  },
  {
   "cell_type": "code",
   "execution_count": 135,
   "id": "d3329458",
   "metadata": {},
   "outputs": [],
   "source": [
    "df['pickup_datetime']  = pd.to_datetime(df['pickup_datetime'])"
   ]
  },
  {
   "cell_type": "code",
   "execution_count": 136,
   "id": "b039c631",
   "metadata": {},
   "outputs": [
    {
     "name": "stdout",
     "output_type": "stream",
     "text": [
      "<class 'pandas.core.frame.DataFrame'>\n",
      "RangeIndex: 200000 entries, 0 to 199999\n",
      "Data columns (total 8 columns):\n",
      " #   Column              Non-Null Count   Dtype              \n",
      "---  ------              --------------   -----              \n",
      " 0   fare_amount         200000 non-null  float64            \n",
      " 1   pickup_datetime     200000 non-null  datetime64[ns, UTC]\n",
      " 2   pickup_longitude    200000 non-null  float64            \n",
      " 3   pickup_latitude     200000 non-null  float64            \n",
      " 4   dropoff_longitude   200000 non-null  float64            \n",
      " 5   dropoff_latitude    200000 non-null  float64            \n",
      " 6   passenger_count     200000 non-null  int64              \n",
      " 7   distance_travelled  200000 non-null  float64            \n",
      "dtypes: datetime64[ns, UTC](1), float64(6), int64(1)\n",
      "memory usage: 12.2 MB\n"
     ]
    }
   ],
   "source": [
    "df.info()"
   ]
  },
  {
   "cell_type": "code",
   "execution_count": 137,
   "id": "78053243",
   "metadata": {},
   "outputs": [],
   "source": [
    "df = df.assign(hour = df.pickup_datetime.dt.hour,\n",
    "               day = df.pickup_datetime.dt.day,\n",
    "               month = df.pickup_datetime.dt.month,\n",
    "               year = df.pickup_datetime.dt.year,\n",
    "               dayofweek = df.pickup_datetime.dt.dayofweek)"
   ]
  },
  {
   "cell_type": "code",
   "execution_count": 138,
   "id": "54db1704",
   "metadata": {},
   "outputs": [],
   "source": [
    "df['day_name'] = pd.to_datetime(df['pickup_datetime']).dt.day_name()\n",
    "df['pickup_time'] = pd.to_datetime(df['pickup_datetime']).dt.time\n",
    "df['pickup_hour'] = pd.to_datetime(df['pickup_datetime']).dt.hour"
   ]
  },
  {
   "cell_type": "code",
   "execution_count": 139,
   "id": "bfdb1fdf",
   "metadata": {},
   "outputs": [
    {
     "name": "stdout",
     "output_type": "stream",
     "text": [
      "<class 'pandas.core.frame.DataFrame'>\n",
      "RangeIndex: 200000 entries, 0 to 199999\n",
      "Data columns (total 16 columns):\n",
      " #   Column              Non-Null Count   Dtype              \n",
      "---  ------              --------------   -----              \n",
      " 0   fare_amount         200000 non-null  float64            \n",
      " 1   pickup_datetime     200000 non-null  datetime64[ns, UTC]\n",
      " 2   pickup_longitude    200000 non-null  float64            \n",
      " 3   pickup_latitude     200000 non-null  float64            \n",
      " 4   dropoff_longitude   200000 non-null  float64            \n",
      " 5   dropoff_latitude    200000 non-null  float64            \n",
      " 6   passenger_count     200000 non-null  int64              \n",
      " 7   distance_travelled  200000 non-null  float64            \n",
      " 8   hour                200000 non-null  int64              \n",
      " 9   day                 200000 non-null  int64              \n",
      " 10  month               200000 non-null  int64              \n",
      " 11  year                200000 non-null  int64              \n",
      " 12  dayofweek           200000 non-null  int64              \n",
      " 13  day_name            200000 non-null  object             \n",
      " 14  pickup_time         200000 non-null  object             \n",
      " 15  pickup_hour         200000 non-null  int64              \n",
      "dtypes: datetime64[ns, UTC](1), float64(6), int64(7), object(2)\n",
      "memory usage: 24.4+ MB\n"
     ]
    }
   ],
   "source": [
    "df.info()"
   ]
  },
  {
   "cell_type": "code",
   "execution_count": 140,
   "id": "0959a1f8",
   "metadata": {},
   "outputs": [
    {
     "data": {
      "text/html": [
       "<div>\n",
       "<style scoped>\n",
       "    .dataframe tbody tr th:only-of-type {\n",
       "        vertical-align: middle;\n",
       "    }\n",
       "\n",
       "    .dataframe tbody tr th {\n",
       "        vertical-align: top;\n",
       "    }\n",
       "\n",
       "    .dataframe thead th {\n",
       "        text-align: right;\n",
       "    }\n",
       "</style>\n",
       "<table border=\"1\" class=\"dataframe\">\n",
       "  <thead>\n",
       "    <tr style=\"text-align: right;\">\n",
       "      <th></th>\n",
       "      <th>fare_amount</th>\n",
       "      <th>pickup_datetime</th>\n",
       "      <th>pickup_longitude</th>\n",
       "      <th>pickup_latitude</th>\n",
       "      <th>dropoff_longitude</th>\n",
       "      <th>dropoff_latitude</th>\n",
       "      <th>passenger_count</th>\n",
       "      <th>distance_travelled</th>\n",
       "      <th>hour</th>\n",
       "      <th>day</th>\n",
       "      <th>month</th>\n",
       "      <th>year</th>\n",
       "      <th>dayofweek</th>\n",
       "      <th>day_name</th>\n",
       "      <th>pickup_time</th>\n",
       "      <th>pickup_hour</th>\n",
       "    </tr>\n",
       "  </thead>\n",
       "  <tbody>\n",
       "    <tr>\n",
       "      <th>0</th>\n",
       "      <td>7.5</td>\n",
       "      <td>2015-05-07 19:52:06+00:00</td>\n",
       "      <td>-73.999817</td>\n",
       "      <td>40.738354</td>\n",
       "      <td>-73.999512</td>\n",
       "      <td>40.723217</td>\n",
       "      <td>1</td>\n",
       "      <td>1.683323</td>\n",
       "      <td>19</td>\n",
       "      <td>7</td>\n",
       "      <td>5</td>\n",
       "      <td>2015</td>\n",
       "      <td>3</td>\n",
       "      <td>Thursday</td>\n",
       "      <td>19:52:06</td>\n",
       "      <td>19</td>\n",
       "    </tr>\n",
       "    <tr>\n",
       "      <th>1</th>\n",
       "      <td>7.7</td>\n",
       "      <td>2009-07-17 20:04:56+00:00</td>\n",
       "      <td>-73.994355</td>\n",
       "      <td>40.728225</td>\n",
       "      <td>-73.994710</td>\n",
       "      <td>40.750325</td>\n",
       "      <td>1</td>\n",
       "      <td>2.457590</td>\n",
       "      <td>20</td>\n",
       "      <td>17</td>\n",
       "      <td>7</td>\n",
       "      <td>2009</td>\n",
       "      <td>4</td>\n",
       "      <td>Friday</td>\n",
       "      <td>20:04:56</td>\n",
       "      <td>20</td>\n",
       "    </tr>\n",
       "    <tr>\n",
       "      <th>2</th>\n",
       "      <td>12.9</td>\n",
       "      <td>2009-08-24 21:45:00+00:00</td>\n",
       "      <td>-74.005043</td>\n",
       "      <td>40.740770</td>\n",
       "      <td>-73.962565</td>\n",
       "      <td>40.772647</td>\n",
       "      <td>1</td>\n",
       "      <td>5.036377</td>\n",
       "      <td>21</td>\n",
       "      <td>24</td>\n",
       "      <td>8</td>\n",
       "      <td>2009</td>\n",
       "      <td>0</td>\n",
       "      <td>Monday</td>\n",
       "      <td>21:45:00</td>\n",
       "      <td>21</td>\n",
       "    </tr>\n",
       "    <tr>\n",
       "      <th>3</th>\n",
       "      <td>5.3</td>\n",
       "      <td>2009-06-26 08:22:21+00:00</td>\n",
       "      <td>-73.976124</td>\n",
       "      <td>40.790844</td>\n",
       "      <td>-73.965316</td>\n",
       "      <td>40.803349</td>\n",
       "      <td>3</td>\n",
       "      <td>1.661683</td>\n",
       "      <td>8</td>\n",
       "      <td>26</td>\n",
       "      <td>6</td>\n",
       "      <td>2009</td>\n",
       "      <td>4</td>\n",
       "      <td>Friday</td>\n",
       "      <td>08:22:21</td>\n",
       "      <td>8</td>\n",
       "    </tr>\n",
       "    <tr>\n",
       "      <th>4</th>\n",
       "      <td>16.0</td>\n",
       "      <td>2014-08-28 17:47:00+00:00</td>\n",
       "      <td>-73.925023</td>\n",
       "      <td>40.744085</td>\n",
       "      <td>-73.973082</td>\n",
       "      <td>40.761247</td>\n",
       "      <td>5</td>\n",
       "      <td>4.475450</td>\n",
       "      <td>17</td>\n",
       "      <td>28</td>\n",
       "      <td>8</td>\n",
       "      <td>2014</td>\n",
       "      <td>3</td>\n",
       "      <td>Thursday</td>\n",
       "      <td>17:47:00</td>\n",
       "      <td>17</td>\n",
       "    </tr>\n",
       "    <tr>\n",
       "      <th>...</th>\n",
       "      <td>...</td>\n",
       "      <td>...</td>\n",
       "      <td>...</td>\n",
       "      <td>...</td>\n",
       "      <td>...</td>\n",
       "      <td>...</td>\n",
       "      <td>...</td>\n",
       "      <td>...</td>\n",
       "      <td>...</td>\n",
       "      <td>...</td>\n",
       "      <td>...</td>\n",
       "      <td>...</td>\n",
       "      <td>...</td>\n",
       "      <td>...</td>\n",
       "      <td>...</td>\n",
       "      <td>...</td>\n",
       "    </tr>\n",
       "    <tr>\n",
       "      <th>199995</th>\n",
       "      <td>3.0</td>\n",
       "      <td>2012-10-28 10:49:00+00:00</td>\n",
       "      <td>-73.987042</td>\n",
       "      <td>40.739367</td>\n",
       "      <td>-73.986525</td>\n",
       "      <td>40.740297</td>\n",
       "      <td>1</td>\n",
       "      <td>0.112210</td>\n",
       "      <td>10</td>\n",
       "      <td>28</td>\n",
       "      <td>10</td>\n",
       "      <td>2012</td>\n",
       "      <td>6</td>\n",
       "      <td>Sunday</td>\n",
       "      <td>10:49:00</td>\n",
       "      <td>10</td>\n",
       "    </tr>\n",
       "    <tr>\n",
       "      <th>199996</th>\n",
       "      <td>7.5</td>\n",
       "      <td>2014-03-14 01:09:00+00:00</td>\n",
       "      <td>-73.984722</td>\n",
       "      <td>40.736837</td>\n",
       "      <td>-74.006672</td>\n",
       "      <td>40.739620</td>\n",
       "      <td>1</td>\n",
       "      <td>1.875050</td>\n",
       "      <td>1</td>\n",
       "      <td>14</td>\n",
       "      <td>3</td>\n",
       "      <td>2014</td>\n",
       "      <td>4</td>\n",
       "      <td>Friday</td>\n",
       "      <td>01:09:00</td>\n",
       "      <td>1</td>\n",
       "    </tr>\n",
       "    <tr>\n",
       "      <th>199997</th>\n",
       "      <td>30.9</td>\n",
       "      <td>2009-06-29 00:42:00+00:00</td>\n",
       "      <td>-73.986017</td>\n",
       "      <td>40.756487</td>\n",
       "      <td>-73.858957</td>\n",
       "      <td>40.692588</td>\n",
       "      <td>2</td>\n",
       "      <td>12.850319</td>\n",
       "      <td>0</td>\n",
       "      <td>29</td>\n",
       "      <td>6</td>\n",
       "      <td>2009</td>\n",
       "      <td>0</td>\n",
       "      <td>Monday</td>\n",
       "      <td>00:42:00</td>\n",
       "      <td>0</td>\n",
       "    </tr>\n",
       "    <tr>\n",
       "      <th>199998</th>\n",
       "      <td>14.5</td>\n",
       "      <td>2015-05-20 14:56:25+00:00</td>\n",
       "      <td>-73.997124</td>\n",
       "      <td>40.725452</td>\n",
       "      <td>-73.983215</td>\n",
       "      <td>40.695415</td>\n",
       "      <td>1</td>\n",
       "      <td>3.539715</td>\n",
       "      <td>14</td>\n",
       "      <td>20</td>\n",
       "      <td>5</td>\n",
       "      <td>2015</td>\n",
       "      <td>2</td>\n",
       "      <td>Wednesday</td>\n",
       "      <td>14:56:25</td>\n",
       "      <td>14</td>\n",
       "    </tr>\n",
       "    <tr>\n",
       "      <th>199999</th>\n",
       "      <td>14.1</td>\n",
       "      <td>2010-05-15 04:08:00+00:00</td>\n",
       "      <td>-73.984395</td>\n",
       "      <td>40.720077</td>\n",
       "      <td>-73.985508</td>\n",
       "      <td>40.768793</td>\n",
       "      <td>1</td>\n",
       "      <td>5.417783</td>\n",
       "      <td>4</td>\n",
       "      <td>15</td>\n",
       "      <td>5</td>\n",
       "      <td>2010</td>\n",
       "      <td>5</td>\n",
       "      <td>Saturday</td>\n",
       "      <td>04:08:00</td>\n",
       "      <td>4</td>\n",
       "    </tr>\n",
       "  </tbody>\n",
       "</table>\n",
       "<p>200000 rows × 16 columns</p>\n",
       "</div>"
      ],
      "text/plain": [
       "        fare_amount           pickup_datetime  pickup_longitude  \\\n",
       "0               7.5 2015-05-07 19:52:06+00:00        -73.999817   \n",
       "1               7.7 2009-07-17 20:04:56+00:00        -73.994355   \n",
       "2              12.9 2009-08-24 21:45:00+00:00        -74.005043   \n",
       "3               5.3 2009-06-26 08:22:21+00:00        -73.976124   \n",
       "4              16.0 2014-08-28 17:47:00+00:00        -73.925023   \n",
       "...             ...                       ...               ...   \n",
       "199995          3.0 2012-10-28 10:49:00+00:00        -73.987042   \n",
       "199996          7.5 2014-03-14 01:09:00+00:00        -73.984722   \n",
       "199997         30.9 2009-06-29 00:42:00+00:00        -73.986017   \n",
       "199998         14.5 2015-05-20 14:56:25+00:00        -73.997124   \n",
       "199999         14.1 2010-05-15 04:08:00+00:00        -73.984395   \n",
       "\n",
       "        pickup_latitude  dropoff_longitude  dropoff_latitude  passenger_count  \\\n",
       "0             40.738354         -73.999512         40.723217                1   \n",
       "1             40.728225         -73.994710         40.750325                1   \n",
       "2             40.740770         -73.962565         40.772647                1   \n",
       "3             40.790844         -73.965316         40.803349                3   \n",
       "4             40.744085         -73.973082         40.761247                5   \n",
       "...                 ...                ...               ...              ...   \n",
       "199995        40.739367         -73.986525         40.740297                1   \n",
       "199996        40.736837         -74.006672         40.739620                1   \n",
       "199997        40.756487         -73.858957         40.692588                2   \n",
       "199998        40.725452         -73.983215         40.695415                1   \n",
       "199999        40.720077         -73.985508         40.768793                1   \n",
       "\n",
       "        distance_travelled  hour  day  month  year  dayofweek   day_name  \\\n",
       "0                 1.683323    19    7      5  2015          3   Thursday   \n",
       "1                 2.457590    20   17      7  2009          4     Friday   \n",
       "2                 5.036377    21   24      8  2009          0     Monday   \n",
       "3                 1.661683     8   26      6  2009          4     Friday   \n",
       "4                 4.475450    17   28      8  2014          3   Thursday   \n",
       "...                    ...   ...  ...    ...   ...        ...        ...   \n",
       "199995            0.112210    10   28     10  2012          6     Sunday   \n",
       "199996            1.875050     1   14      3  2014          4     Friday   \n",
       "199997           12.850319     0   29      6  2009          0     Monday   \n",
       "199998            3.539715    14   20      5  2015          2  Wednesday   \n",
       "199999            5.417783     4   15      5  2010          5   Saturday   \n",
       "\n",
       "       pickup_time  pickup_hour  \n",
       "0         19:52:06           19  \n",
       "1         20:04:56           20  \n",
       "2         21:45:00           21  \n",
       "3         08:22:21            8  \n",
       "4         17:47:00           17  \n",
       "...            ...          ...  \n",
       "199995    10:49:00           10  \n",
       "199996    01:09:00            1  \n",
       "199997    00:42:00            0  \n",
       "199998    14:56:25           14  \n",
       "199999    04:08:00            4  \n",
       "\n",
       "[200000 rows x 16 columns]"
      ]
     },
     "execution_count": 140,
     "metadata": {},
     "output_type": "execute_result"
    }
   ],
   "source": [
    "df"
   ]
  },
  {
   "attachments": {},
   "cell_type": "markdown",
   "id": "e1af605f",
   "metadata": {},
   "source": [
    "We can observe there are a number of outliers, hence lets plot them"
   ]
  },
  {
   "attachments": {},
   "cell_type": "markdown",
   "id": "0ff82990",
   "metadata": {},
   "source": [
    "## Outlier treatment"
   ]
  },
  {
   "attachments": {},
   "cell_type": "markdown",
   "id": "b75754e5",
   "metadata": {},
   "source": [
    "###### we will extract time feature from the 'pickup_datetime' \n",
    "###### we will add a variable which measures the distance between pickup and drop"
   ]
  },
  {
   "cell_type": "code",
   "execution_count": 141,
   "id": "b6c4e328",
   "metadata": {},
   "outputs": [],
   "source": [
    "# # The following treatment is being done to outliers:\n",
    "\n",
    "# passenger_count should be less than 5\n",
    "# rows with passenger_count = 0 should be dropped\n",
    "# fare_amount should be kept to the minimum set by cab, i.e., $2.5\n",
    "# distance should be maximum 130 km\n",
    "# distance travelled cannot be zero. Rows with distance = 0 must be dropped"
   ]
  },
  {
   "cell_type": "code",
   "execution_count": 142,
   "id": "2f299cac",
   "metadata": {},
   "outputs": [],
   "source": [
    "df.drop(df[df['passenger_count'] > 5].index, axis=0, inplace=True)\n",
    "df.drop(df[df['passenger_count'] == 0].index, axis=0, inplace=True)\n",
    "df.drop(df[df['fare_amount'] < 2.5].index, axis=0, inplace=True)\n",
    "df.drop(df[df['distance_travelled'] > 130].index, axis=0, inplace=True)\n",
    "df.drop(df[df['distance_travelled'] == 0].index, axis=0, inplace=True)\n",
    "df.dropna(axis=0, inplace=True)\n"
   ]
  },
  {
   "cell_type": "code",
   "execution_count": 143,
   "id": "e0321a3f",
   "metadata": {},
   "outputs": [
    {
     "data": {
      "text/html": [
       "<div>\n",
       "<style scoped>\n",
       "    .dataframe tbody tr th:only-of-type {\n",
       "        vertical-align: middle;\n",
       "    }\n",
       "\n",
       "    .dataframe tbody tr th {\n",
       "        vertical-align: top;\n",
       "    }\n",
       "\n",
       "    .dataframe thead th {\n",
       "        text-align: right;\n",
       "    }\n",
       "</style>\n",
       "<table border=\"1\" class=\"dataframe\">\n",
       "  <thead>\n",
       "    <tr style=\"text-align: right;\">\n",
       "      <th></th>\n",
       "      <th>fare_amount</th>\n",
       "      <th>pickup_datetime</th>\n",
       "      <th>pickup_longitude</th>\n",
       "      <th>pickup_latitude</th>\n",
       "      <th>dropoff_longitude</th>\n",
       "      <th>dropoff_latitude</th>\n",
       "      <th>passenger_count</th>\n",
       "      <th>distance_travelled</th>\n",
       "      <th>hour</th>\n",
       "      <th>day</th>\n",
       "      <th>month</th>\n",
       "      <th>year</th>\n",
       "      <th>dayofweek</th>\n",
       "      <th>day_name</th>\n",
       "      <th>pickup_time</th>\n",
       "      <th>pickup_hour</th>\n",
       "    </tr>\n",
       "  </thead>\n",
       "  <tbody>\n",
       "    <tr>\n",
       "      <th>0</th>\n",
       "      <td>7.5</td>\n",
       "      <td>2015-05-07 19:52:06+00:00</td>\n",
       "      <td>-73.999817</td>\n",
       "      <td>40.738354</td>\n",
       "      <td>-73.999512</td>\n",
       "      <td>40.723217</td>\n",
       "      <td>1</td>\n",
       "      <td>1.683323</td>\n",
       "      <td>19</td>\n",
       "      <td>7</td>\n",
       "      <td>5</td>\n",
       "      <td>2015</td>\n",
       "      <td>3</td>\n",
       "      <td>Thursday</td>\n",
       "      <td>19:52:06</td>\n",
       "      <td>19</td>\n",
       "    </tr>\n",
       "    <tr>\n",
       "      <th>1</th>\n",
       "      <td>7.7</td>\n",
       "      <td>2009-07-17 20:04:56+00:00</td>\n",
       "      <td>-73.994355</td>\n",
       "      <td>40.728225</td>\n",
       "      <td>-73.994710</td>\n",
       "      <td>40.750325</td>\n",
       "      <td>1</td>\n",
       "      <td>2.457590</td>\n",
       "      <td>20</td>\n",
       "      <td>17</td>\n",
       "      <td>7</td>\n",
       "      <td>2009</td>\n",
       "      <td>4</td>\n",
       "      <td>Friday</td>\n",
       "      <td>20:04:56</td>\n",
       "      <td>20</td>\n",
       "    </tr>\n",
       "    <tr>\n",
       "      <th>2</th>\n",
       "      <td>12.9</td>\n",
       "      <td>2009-08-24 21:45:00+00:00</td>\n",
       "      <td>-74.005043</td>\n",
       "      <td>40.740770</td>\n",
       "      <td>-73.962565</td>\n",
       "      <td>40.772647</td>\n",
       "      <td>1</td>\n",
       "      <td>5.036377</td>\n",
       "      <td>21</td>\n",
       "      <td>24</td>\n",
       "      <td>8</td>\n",
       "      <td>2009</td>\n",
       "      <td>0</td>\n",
       "      <td>Monday</td>\n",
       "      <td>21:45:00</td>\n",
       "      <td>21</td>\n",
       "    </tr>\n",
       "    <tr>\n",
       "      <th>3</th>\n",
       "      <td>5.3</td>\n",
       "      <td>2009-06-26 08:22:21+00:00</td>\n",
       "      <td>-73.976124</td>\n",
       "      <td>40.790844</td>\n",
       "      <td>-73.965316</td>\n",
       "      <td>40.803349</td>\n",
       "      <td>3</td>\n",
       "      <td>1.661683</td>\n",
       "      <td>8</td>\n",
       "      <td>26</td>\n",
       "      <td>6</td>\n",
       "      <td>2009</td>\n",
       "      <td>4</td>\n",
       "      <td>Friday</td>\n",
       "      <td>08:22:21</td>\n",
       "      <td>8</td>\n",
       "    </tr>\n",
       "    <tr>\n",
       "      <th>4</th>\n",
       "      <td>16.0</td>\n",
       "      <td>2014-08-28 17:47:00+00:00</td>\n",
       "      <td>-73.925023</td>\n",
       "      <td>40.744085</td>\n",
       "      <td>-73.973082</td>\n",
       "      <td>40.761247</td>\n",
       "      <td>5</td>\n",
       "      <td>4.475450</td>\n",
       "      <td>17</td>\n",
       "      <td>28</td>\n",
       "      <td>8</td>\n",
       "      <td>2014</td>\n",
       "      <td>3</td>\n",
       "      <td>Thursday</td>\n",
       "      <td>17:47:00</td>\n",
       "      <td>17</td>\n",
       "    </tr>\n",
       "  </tbody>\n",
       "</table>\n",
       "</div>"
      ],
      "text/plain": [
       "   fare_amount           pickup_datetime  pickup_longitude  pickup_latitude  \\\n",
       "0          7.5 2015-05-07 19:52:06+00:00        -73.999817        40.738354   \n",
       "1          7.7 2009-07-17 20:04:56+00:00        -73.994355        40.728225   \n",
       "2         12.9 2009-08-24 21:45:00+00:00        -74.005043        40.740770   \n",
       "3          5.3 2009-06-26 08:22:21+00:00        -73.976124        40.790844   \n",
       "4         16.0 2014-08-28 17:47:00+00:00        -73.925023        40.744085   \n",
       "\n",
       "   dropoff_longitude  dropoff_latitude  passenger_count  distance_travelled  \\\n",
       "0         -73.999512         40.723217                1            1.683323   \n",
       "1         -73.994710         40.750325                1            2.457590   \n",
       "2         -73.962565         40.772647                1            5.036377   \n",
       "3         -73.965316         40.803349                3            1.661683   \n",
       "4         -73.973082         40.761247                5            4.475450   \n",
       "\n",
       "   hour  day  month  year  dayofweek  day_name pickup_time  pickup_hour  \n",
       "0    19    7      5  2015          3  Thursday    19:52:06           19  \n",
       "1    20   17      7  2009          4    Friday    20:04:56           20  \n",
       "2    21   24      8  2009          0    Monday    21:45:00           21  \n",
       "3     8   26      6  2009          4    Friday    08:22:21            8  \n",
       "4    17   28      8  2014          3  Thursday    17:47:00           17  "
      ]
     },
     "execution_count": 143,
     "metadata": {},
     "output_type": "execute_result"
    }
   ],
   "source": [
    "df.head(5)"
   ]
  },
  {
   "cell_type": "code",
   "execution_count": 144,
   "id": "5772740e",
   "metadata": {},
   "outputs": [
    {
     "data": {
      "text/html": [
       "<div>\n",
       "<style scoped>\n",
       "    .dataframe tbody tr th:only-of-type {\n",
       "        vertical-align: middle;\n",
       "    }\n",
       "\n",
       "    .dataframe tbody tr th {\n",
       "        vertical-align: top;\n",
       "    }\n",
       "\n",
       "    .dataframe thead th {\n",
       "        text-align: right;\n",
       "    }\n",
       "</style>\n",
       "<table border=\"1\" class=\"dataframe\">\n",
       "  <thead>\n",
       "    <tr style=\"text-align: right;\">\n",
       "      <th></th>\n",
       "      <th>fare_amount</th>\n",
       "      <th>pickup_longitude</th>\n",
       "      <th>pickup_latitude</th>\n",
       "      <th>dropoff_longitude</th>\n",
       "      <th>dropoff_latitude</th>\n",
       "      <th>passenger_count</th>\n",
       "      <th>distance_travelled</th>\n",
       "      <th>hour</th>\n",
       "      <th>day</th>\n",
       "      <th>month</th>\n",
       "      <th>year</th>\n",
       "      <th>dayofweek</th>\n",
       "      <th>pickup_hour</th>\n",
       "    </tr>\n",
       "  </thead>\n",
       "  <tbody>\n",
       "    <tr>\n",
       "      <th>count</th>\n",
       "      <td>189061.000000</td>\n",
       "      <td>189061.000000</td>\n",
       "      <td>189061.000000</td>\n",
       "      <td>189061.000000</td>\n",
       "      <td>189061.000000</td>\n",
       "      <td>189061.000000</td>\n",
       "      <td>189061.000000</td>\n",
       "      <td>189061.000000</td>\n",
       "      <td>189061.000000</td>\n",
       "      <td>189061.000000</td>\n",
       "      <td>189061.000000</td>\n",
       "      <td>189061.000000</td>\n",
       "      <td>189061.000000</td>\n",
       "    </tr>\n",
       "    <tr>\n",
       "      <th>mean</th>\n",
       "      <td>11.336739</td>\n",
       "      <td>-73.916225</td>\n",
       "      <td>40.696089</td>\n",
       "      <td>-73.915258</td>\n",
       "      <td>40.694481</td>\n",
       "      <td>1.595115</td>\n",
       "      <td>3.377859</td>\n",
       "      <td>13.489234</td>\n",
       "      <td>15.704989</td>\n",
       "      <td>6.282337</td>\n",
       "      <td>2011.719302</td>\n",
       "      <td>3.049095</td>\n",
       "      <td>13.489234</td>\n",
       "    </tr>\n",
       "    <tr>\n",
       "      <th>std</th>\n",
       "      <td>9.730745</td>\n",
       "      <td>2.560946</td>\n",
       "      <td>2.634751</td>\n",
       "      <td>2.561027</td>\n",
       "      <td>2.501323</td>\n",
       "      <td>1.150926</td>\n",
       "      <td>3.984585</td>\n",
       "      <td>6.518660</td>\n",
       "      <td>8.690064</td>\n",
       "      <td>3.439349</td>\n",
       "      <td>1.862527</td>\n",
       "      <td>1.946679</td>\n",
       "      <td>6.518660</td>\n",
       "    </tr>\n",
       "    <tr>\n",
       "      <th>min</th>\n",
       "      <td>2.500000</td>\n",
       "      <td>-75.419276</td>\n",
       "      <td>-74.015515</td>\n",
       "      <td>-75.423067</td>\n",
       "      <td>-74.015750</td>\n",
       "      <td>1.000000</td>\n",
       "      <td>0.000084</td>\n",
       "      <td>0.000000</td>\n",
       "      <td>1.000000</td>\n",
       "      <td>1.000000</td>\n",
       "      <td>2009.000000</td>\n",
       "      <td>0.000000</td>\n",
       "      <td>0.000000</td>\n",
       "    </tr>\n",
       "    <tr>\n",
       "      <th>25%</th>\n",
       "      <td>6.000000</td>\n",
       "      <td>-73.992274</td>\n",
       "      <td>40.736440</td>\n",
       "      <td>-73.991594</td>\n",
       "      <td>40.735345</td>\n",
       "      <td>1.000000</td>\n",
       "      <td>1.279954</td>\n",
       "      <td>9.000000</td>\n",
       "      <td>8.000000</td>\n",
       "      <td>3.000000</td>\n",
       "      <td>2010.000000</td>\n",
       "      <td>1.000000</td>\n",
       "      <td>9.000000</td>\n",
       "    </tr>\n",
       "    <tr>\n",
       "      <th>50%</th>\n",
       "      <td>8.500000</td>\n",
       "      <td>-73.982133</td>\n",
       "      <td>40.753273</td>\n",
       "      <td>-73.980564</td>\n",
       "      <td>40.753738</td>\n",
       "      <td>1.000000</td>\n",
       "      <td>2.181325</td>\n",
       "      <td>14.000000</td>\n",
       "      <td>16.000000</td>\n",
       "      <td>6.000000</td>\n",
       "      <td>2012.000000</td>\n",
       "      <td>3.000000</td>\n",
       "      <td>14.000000</td>\n",
       "    </tr>\n",
       "    <tr>\n",
       "      <th>75%</th>\n",
       "      <td>12.500000</td>\n",
       "      <td>-73.968465</td>\n",
       "      <td>40.767532</td>\n",
       "      <td>-73.965513</td>\n",
       "      <td>40.768327</td>\n",
       "      <td>2.000000</td>\n",
       "      <td>3.938054</td>\n",
       "      <td>19.000000</td>\n",
       "      <td>23.000000</td>\n",
       "      <td>9.000000</td>\n",
       "      <td>2013.000000</td>\n",
       "      <td>5.000000</td>\n",
       "      <td>19.000000</td>\n",
       "    </tr>\n",
       "    <tr>\n",
       "      <th>max</th>\n",
       "      <td>499.000000</td>\n",
       "      <td>40.808425</td>\n",
       "      <td>401.066667</td>\n",
       "      <td>40.831932</td>\n",
       "      <td>45.031598</td>\n",
       "      <td>5.000000</td>\n",
       "      <td>129.610094</td>\n",
       "      <td>23.000000</td>\n",
       "      <td>31.000000</td>\n",
       "      <td>12.000000</td>\n",
       "      <td>2015.000000</td>\n",
       "      <td>6.000000</td>\n",
       "      <td>23.000000</td>\n",
       "    </tr>\n",
       "  </tbody>\n",
       "</table>\n",
       "</div>"
      ],
      "text/plain": [
       "         fare_amount  pickup_longitude  pickup_latitude  dropoff_longitude  \\\n",
       "count  189061.000000     189061.000000    189061.000000      189061.000000   \n",
       "mean       11.336739        -73.916225        40.696089         -73.915258   \n",
       "std         9.730745          2.560946         2.634751           2.561027   \n",
       "min         2.500000        -75.419276       -74.015515         -75.423067   \n",
       "25%         6.000000        -73.992274        40.736440         -73.991594   \n",
       "50%         8.500000        -73.982133        40.753273         -73.980564   \n",
       "75%        12.500000        -73.968465        40.767532         -73.965513   \n",
       "max       499.000000         40.808425       401.066667          40.831932   \n",
       "\n",
       "       dropoff_latitude  passenger_count  distance_travelled           hour  \\\n",
       "count     189061.000000    189061.000000       189061.000000  189061.000000   \n",
       "mean          40.694481         1.595115            3.377859      13.489234   \n",
       "std            2.501323         1.150926            3.984585       6.518660   \n",
       "min          -74.015750         1.000000            0.000084       0.000000   \n",
       "25%           40.735345         1.000000            1.279954       9.000000   \n",
       "50%           40.753738         1.000000            2.181325      14.000000   \n",
       "75%           40.768327         2.000000            3.938054      19.000000   \n",
       "max           45.031598         5.000000          129.610094      23.000000   \n",
       "\n",
       "                 day          month           year      dayofweek  \\\n",
       "count  189061.000000  189061.000000  189061.000000  189061.000000   \n",
       "mean       15.704989       6.282337    2011.719302       3.049095   \n",
       "std         8.690064       3.439349       1.862527       1.946679   \n",
       "min         1.000000       1.000000    2009.000000       0.000000   \n",
       "25%         8.000000       3.000000    2010.000000       1.000000   \n",
       "50%        16.000000       6.000000    2012.000000       3.000000   \n",
       "75%        23.000000       9.000000    2013.000000       5.000000   \n",
       "max        31.000000      12.000000    2015.000000       6.000000   \n",
       "\n",
       "         pickup_hour  \n",
       "count  189061.000000  \n",
       "mean       13.489234  \n",
       "std         6.518660  \n",
       "min         0.000000  \n",
       "25%         9.000000  \n",
       "50%        14.000000  \n",
       "75%        19.000000  \n",
       "max        23.000000  "
      ]
     },
     "execution_count": 144,
     "metadata": {},
     "output_type": "execute_result"
    }
   ],
   "source": [
    "df.describe()"
   ]
  },
  {
   "cell_type": "code",
   "execution_count": 145,
   "id": "dea30f41",
   "metadata": {},
   "outputs": [],
   "source": [
    "# Dropping the columns 'pickup datetime' and 'pickup hour' as we have extracted relvant pieces of information\n",
    "# from these columns and do not need these columns for our analysis now. Also, 'date' and 'day_name', month and yuear\n",
    "# as well as pickup and dropoff coordinates are not required as we have the required data extracted from them\n",
    "\n",
    "data = df.drop(['pickup_datetime','pickup_time', 'day', 'pickup_longitude', 'pickup_latitude',\n",
    "                  'dropoff_longitude', 'dropoff_latitude', 'day_name'],axis=1)"
   ]
  },
  {
   "cell_type": "code",
   "execution_count": 146,
   "id": "56b673f6",
   "metadata": {},
   "outputs": [],
   "source": [
    "df = df.drop('pickup_time', axis=1)"
   ]
  },
  {
   "cell_type": "code",
   "execution_count": 147,
   "id": "60fc7c73",
   "metadata": {},
   "outputs": [],
   "source": [
    "# train_df = x_train.drop('pickup_time', axis=1)\n",
    "\n",
    "# # Select features for training\n",
    "# features = ['additional_fare', 'duration', 'meter_waiting', 'meter_waiting_fare', 'meter_waiting_till_pickup', 'pick_lat', 'pick_lon', 'drop_lat', 'drop_lon', 'fare']\n",
    "\n",
    "# # Update the training and testing data with the selected features\n",
    "# train_X = x_train[features]\n",
    "# test_X = x_test[features]"
   ]
  },
  {
   "attachments": {},
   "cell_type": "markdown",
   "id": "ebe35120",
   "metadata": {},
   "source": [
    "## Numerical features-univariate analysis"
   ]
  },
  {
   "cell_type": "code",
   "execution_count": 148,
   "id": "7f4c05b0",
   "metadata": {},
   "outputs": [],
   "source": [
    "# Boxplot and histogram"
   ]
  },
  {
   "cell_type": "code",
   "execution_count": 149,
   "id": "64b293f0",
   "metadata": {},
   "outputs": [
    {
     "data": {
      "text/plain": [
       "<AxesSubplot:xlabel='distance_travelled'>"
      ]
     },
     "execution_count": 149,
     "metadata": {},
     "output_type": "execute_result"
    },
    {
     "data": {
      "image/png": "[encoded data removed]",
      "text/plain": [
       "<Figure size 432x288 with 1 Axes>"
      ]
     },
     "metadata": {
      "needs_background": "light"
     },
     "output_type": "display_data"
    }
   ],
   "source": [
    "sns.boxplot(x=data['distance_travelled'])"
   ]
  },
  {
   "cell_type": "code",
   "execution_count": 150,
   "id": "e86fcbcd",
   "metadata": {},
   "outputs": [
    {
     "data": {
      "text/plain": [
       "<matplotlib.lines.Line2D at 0x231a65523a0>"
      ]
     },
     "execution_count": 150,
     "metadata": {},
     "output_type": "execute_result"
    },
    {
     "data": {
      "image/png": "[encoded data removed]",
      "text/plain": [
       "<Figure size 432x288 with 1 Axes>"
      ]
     },
     "metadata": {
      "needs_background": "light"
     },
     "output_type": "display_data"
    }
   ],
   "source": [
    "import matplotlib.pyplot as plt\n",
    "hist = plt.hist(x=df['distance_travelled'], density = True)\n",
    "# Draw a vertical line in the histogram to visualize mean value of the numerical feature (NaNs will be ignored when calculating the mean)\n",
    "plt.axvline(data['distance_travelled'].mean(), color = 'red', linestyle='--')\n",
    "# Draw another vertical line in the histogram to visualize median value of the numerical feature (NaNs will be ignored when calculating the median)\n",
    "plt.axvline(data['distance_travelled'].median(), color = 'black', linestyle='-')"
   ]
  },
  {
   "cell_type": "code",
   "execution_count": 151,
   "id": "496b77b7",
   "metadata": {},
   "outputs": [],
   "source": [
    "# Observations:\n",
    "\n",
    "# Negatively Skewed\n",
    "# Outliers on the left end\n",
    "# Mean and Median are close"
   ]
  },
  {
   "attachments": {},
   "cell_type": "markdown",
   "id": "b5d4a417",
   "metadata": {},
   "source": [
    "## Categorical Features"
   ]
  },
  {
   "cell_type": "code",
   "execution_count": 152,
   "id": "b7cf5133",
   "metadata": {},
   "outputs": [],
   "source": [
    "# Passenger count"
   ]
  },
  {
   "cell_type": "code",
   "execution_count": 153,
   "id": "7f47f6ce",
   "metadata": {},
   "outputs": [
    {
     "data": {
      "text/plain": [
       "(array([0, 1, 2, 3, 4]),\n",
       " [Text(0, 0, '1'),\n",
       "  Text(1, 0, '2'),\n",
       "  Text(2, 0, '5'),\n",
       "  Text(3, 0, '3'),\n",
       "  Text(4, 0, '4')])"
      ]
     },
     "execution_count": 153,
     "metadata": {},
     "output_type": "execute_result"
    },
    {
     "data": {
      "image/png": "[encoded data removed]",
      "text/plain": [
       "<Figure size 432x288 with 1 Axes>"
      ]
     },
     "metadata": {
      "needs_background": "light"
     },
     "output_type": "display_data"
    }
   ],
   "source": [
    "data['passenger_count'].value_counts(normalize = True).plot.bar()\n",
    "plt.xticks(rotation = 0)"
   ]
  },
  {
   "cell_type": "code",
   "execution_count": 154,
   "id": "d3b5f8e5",
   "metadata": {},
   "outputs": [],
   "source": [
    "# Observation:\n",
    "\n",
    "# Almost 70% of trips had only 1 passenger"
   ]
  },
  {
   "cell_type": "code",
   "execution_count": 155,
   "id": "f28185ac",
   "metadata": {},
   "outputs": [],
   "source": [
    "# Day of the week"
   ]
  },
  {
   "cell_type": "code",
   "execution_count": 156,
   "id": "dcc2d265",
   "metadata": {},
   "outputs": [
    {
     "data": {
      "text/plain": [
       "(array([0, 1, 2, 3, 4, 5, 6]),\n",
       " [Text(0, 0, '4'),\n",
       "  Text(1, 0, '5'),\n",
       "  Text(2, 0, '3'),\n",
       "  Text(3, 0, '2'),\n",
       "  Text(4, 0, '1'),\n",
       "  Text(5, 0, '6'),\n",
       "  Text(6, 0, '0')])"
      ]
     },
     "execution_count": 156,
     "metadata": {},
     "output_type": "execute_result"
    },
    {
     "data": {
      "image/png": "[encoded data removed]",
      "text/plain": [
       "<Figure size 432x288 with 1 Axes>"
      ]
     },
     "metadata": {
      "needs_background": "light"
     },
     "output_type": "display_data"
    }
   ],
   "source": [
    "data['dayofweek'].value_counts(normalize = True).plot.bar()\n",
    "plt.xticks(rotation = 0)"
   ]
  },
  {
   "cell_type": "code",
   "execution_count": 157,
   "id": "dee79cf1",
   "metadata": {},
   "outputs": [],
   "source": [
    "# Observation:\n",
    "\n",
    "# As expected, Friday (weekend eve) and Saturday had the highest number of trips"
   ]
  },
  {
   "cell_type": "code",
   "execution_count": 158,
   "id": "c702b6ad",
   "metadata": {},
   "outputs": [],
   "source": [
    "# pick up time"
   ]
  },
  {
   "cell_type": "code",
   "execution_count": 159,
   "id": "ccadd377",
   "metadata": {},
   "outputs": [
    {
     "data": {
      "text/plain": [
       "(array([ 0,  1,  2,  3,  4,  5,  6,  7,  8,  9, 10, 11, 12, 13, 14, 15, 16,\n",
       "        17, 18, 19, 20, 21, 22, 23]),\n",
       " [Text(0, 0, '19'),\n",
       "  Text(1, 0, '18'),\n",
       "  Text(2, 0, '20'),\n",
       "  Text(3, 0, '21'),\n",
       "  Text(4, 0, '22'),\n",
       "  Text(5, 0, '13'),\n",
       "  Text(6, 0, '12'),\n",
       "  Text(7, 0, '23'),\n",
       "  Text(8, 0, '14'),\n",
       "  Text(9, 0, '17'),\n",
       "  Text(10, 0, '15'),\n",
       "  Text(11, 0, '11'),\n",
       "  Text(12, 0, '9'),\n",
       "  Text(13, 0, '8'),\n",
       "  Text(14, 0, '10'),\n",
       "  Text(15, 0, '16'),\n",
       "  Text(16, 0, '0'),\n",
       "  Text(17, 0, '7'),\n",
       "  Text(18, 0, '1'),\n",
       "  Text(19, 0, '2'),\n",
       "  Text(20, 0, '6'),\n",
       "  Text(21, 0, '3'),\n",
       "  Text(22, 0, '4'),\n",
       "  Text(23, 0, '5')])"
      ]
     },
     "execution_count": 159,
     "metadata": {},
     "output_type": "execute_result"
    },
    {
     "data": {
      "image/png": "[encoded data removed]",
      "text/plain": [
       "<Figure size 432x288 with 1 Axes>"
      ]
     },
     "metadata": {
      "needs_background": "light"
     },
     "output_type": "display_data"
    }
   ],
   "source": [
    "data['pickup_hour'].value_counts(normalize = True).plot.bar()\n",
    "plt.xticks(rotation = 0)"
   ]
  },
  {
   "cell_type": "code",
   "execution_count": 160,
   "id": "aa1ad493",
   "metadata": {},
   "outputs": [],
   "source": [
    "# here we can observe that he cab bookings are peak \n",
    "# around 7-9PM and are at the lowest from 4-5AM"
   ]
  },
  {
   "cell_type": "code",
   "execution_count": 161,
   "id": "df04e428",
   "metadata": {},
   "outputs": [],
   "source": [
    "import geopandas as gpd"
   ]
  },
  {
   "cell_type": "code",
   "execution_count": 162,
   "id": "51579cb1",
   "metadata": {},
   "outputs": [
    {
     "data": {
      "image/png": "[encoded data removed]",
      "text/plain": [
       "<Figure size 432x288 with 1 Axes>"
      ]
     },
     "metadata": {
      "needs_background": "light"
     },
     "output_type": "display_data"
    }
   ],
   "source": [
    "#Scatter plot of distance vs fare amount\n",
    "plt.scatter(x = data.distance_travelled, y = data.fare_amount)\n",
    "\n",
    "# Show the plot\n",
    "plt.show()"
   ]
  },
  {
   "cell_type": "code",
   "execution_count": 163,
   "id": "fd68718e",
   "metadata": {},
   "outputs": [],
   "source": [
    "# here we can infer that as travel distance increases, the fare amount increases with some discrepencies"
   ]
  },
  {
   "cell_type": "code",
   "execution_count": 164,
   "id": "ba2f82f0",
   "metadata": {},
   "outputs": [
    {
     "data": {
      "image/png": "[encoded data removed]",
      "text/plain": [
       "<Figure size 432x288 with 1 Axes>"
      ]
     },
     "metadata": {
      "needs_background": "light"
     },
     "output_type": "display_data"
    }
   ],
   "source": [
    "#Scatter plot of day of the week vs fare amount\n",
    "plt.scatter(x = data.dayofweek, y = data.fare_amount)\n",
    "\n",
    "# Show the plot\n",
    "plt.show()"
   ]
  },
  {
   "cell_type": "code",
   "execution_count": 165,
   "id": "706da4da",
   "metadata": {},
   "outputs": [],
   "source": [
    "# Generally speaking, weekend fares are higher than weekday fares. This could be due to distance travelled or due to peak hours"
   ]
  },
  {
   "cell_type": "code",
   "execution_count": 166,
   "id": "727e95ef",
   "metadata": {},
   "outputs": [
    {
     "data": {
      "image/png": "[encoded data removed]",
      "text/plain": [
       "<Figure size 432x288 with 1 Axes>"
      ]
     },
     "metadata": {
      "needs_background": "light"
     },
     "output_type": "display_data"
    }
   ],
   "source": [
    "#Scatter plot of day of the week vs distance to see if there is any relationship between them\n",
    "plt.scatter(x = data.dayofweek, y = data.distance_travelled)\n",
    "\n",
    "# Show the plot\n",
    "plt.show()"
   ]
  },
  {
   "cell_type": "code",
   "execution_count": 167,
   "id": "6ba714fd",
   "metadata": {},
   "outputs": [],
   "source": [
    "# We see that there isn;t much of a relationship between distance travelled vs fay of the week - thus, it is appears that fare amount being higher on weekends has a high likelihood of being linked to peak hours / wait time due to higher traffic.\n",
    "\n",
    "# Unfortunately, we do not have the dropoff time for each ride to be able to ascertain the time of each trip and demonstrate if we can see a relationship between fare and time travelled"
   ]
  },
  {
   "cell_type": "code",
   "execution_count": 168,
   "id": "4b450bc3",
   "metadata": {},
   "outputs": [
    {
     "data": {
      "image/png": "[encoded data removed]",
      "text/plain": [
       "<Figure size 432x288 with 1 Axes>"
      ]
     },
     "metadata": {
      "needs_background": "light"
     },
     "output_type": "display_data"
    }
   ],
   "source": [
    "#Scatter plot of pickup time vs fare amount\n",
    "plt.scatter(x = data.pickup_hour, y = data.fare_amount)\n",
    "\n",
    "# Show the plot\n",
    "plt.show()"
   ]
  },
  {
   "cell_type": "code",
   "execution_count": 169,
   "id": "29b4f491",
   "metadata": {},
   "outputs": [],
   "source": [
    "# We do see some pickup times having a greater % of higher fares as compared to others - however, it is difficult to draw a concluding relationship"
   ]
  },
  {
   "cell_type": "code",
   "execution_count": 170,
   "id": "0ced98ee",
   "metadata": {},
   "outputs": [
    {
     "data": {
      "image/png": "[encoded data removed]",
      "text/plain": [
       "<Figure size 432x288 with 1 Axes>"
      ]
     },
     "metadata": {
      "needs_background": "light"
     },
     "output_type": "display_data"
    }
   ],
   "source": [
    "#Scatter plot of pickup time vs distance\n",
    "plt.scatter(x = data.pickup_hour, y = data.distance_travelled)\n",
    "\n",
    "# Show the plot\n",
    "plt.show()"
   ]
  },
  {
   "cell_type": "code",
   "execution_count": 171,
   "id": "319fb3d4",
   "metadata": {},
   "outputs": [],
   "source": [
    "# Some pickup hours have a greater concentration of trips where a high distance was travelled as compared to others"
   ]
  },
  {
   "cell_type": "code",
   "execution_count": 172,
   "id": "7001abdc",
   "metadata": {},
   "outputs": [],
   "source": [
    "# Drop 'pickup_time' feature from training data\n",
    "train_df = np.delete(x_train, 2, axis=1)\n",
    "\n",
    "# Drop 'pickup_time' feature from test data\n",
    "test_df = np.delete(x_test, 2, axis=1)"
   ]
  },
  {
   "attachments": {},
   "cell_type": "markdown",
   "id": "2cb309cc",
   "metadata": {},
   "source": [
    "### Data Preperation"
   ]
  },
  {
   "attachments": {},
   "cell_type": "markdown",
   "id": "cb7b1c69",
   "metadata": {},
   "source": [
    "##### Feature Scaling\n",
    "Feature Scaling is required because of two reasons:\n",
    "\n",
    "###### The data points are far from each other. This means that in some columns, the distance between data points is a lot\n",
    "###### Some of the features have a unit while other features are unitless. Thereofre, it is important to make all features unitless"
   ]
  },
  {
   "cell_type": "code",
   "execution_count": 173,
   "id": "122568ba",
   "metadata": {},
   "outputs": [],
   "source": [
    "#Feature Scaling (Standardization)\n",
    "\n",
    "from sklearn.preprocessing import StandardScaler\n",
    "std=StandardScaler()\n",
    "\n"
   ]
  },
  {
   "cell_type": "code",
   "execution_count": 174,
   "id": "abe05ab3",
   "metadata": {},
   "outputs": [],
   "source": [
    "x = data.drop(['fare_amount'], axis = 1)\n",
    "y = data['fare_amount'].values.reshape(-1, 1)"
   ]
  },
  {
   "cell_type": "code",
   "execution_count": 175,
   "id": "07afc563",
   "metadata": {},
   "outputs": [],
   "source": [
    "y_std = std.fit_transform(y)\n",
    "\n",
    "x_std = std.fit_transform(x)"
   ]
  },
  {
   "cell_type": "code",
   "execution_count": 176,
   "id": "71902ff9",
   "metadata": {},
   "outputs": [],
   "source": [
    "x_train, x_test, y_train, y_test = train_test_split(x_std, y_std, test_size = 0.3, random_state = 42)"
   ]
  },
  {
   "cell_type": "code",
   "execution_count": 177,
   "id": "9ff0236a",
   "metadata": {},
   "outputs": [
    {
     "data": {
      "text/plain": [
       "(132342, 7)"
      ]
     },
     "execution_count": 177,
     "metadata": {},
     "output_type": "execute_result"
    }
   ],
   "source": [
    "x_train.shape"
   ]
  },
  {
   "cell_type": "code",
   "execution_count": 178,
   "id": "4a84b9f1",
   "metadata": {},
   "outputs": [
    {
     "data": {
      "text/plain": [
       "(132342, 1)"
      ]
     },
     "execution_count": 178,
     "metadata": {},
     "output_type": "execute_result"
    }
   ],
   "source": [
    "y_train.shape"
   ]
  },
  {
   "cell_type": "code",
   "execution_count": 179,
   "id": "e41e459b",
   "metadata": {},
   "outputs": [
    {
     "data": {
      "text/plain": [
       "(56719, 1)"
      ]
     },
     "execution_count": 179,
     "metadata": {},
     "output_type": "execute_result"
    }
   ],
   "source": [
    "y_test.shape"
   ]
  },
  {
   "cell_type": "code",
   "execution_count": 180,
   "id": "3ddc8ea4",
   "metadata": {},
   "outputs": [
    {
     "data": {
      "text/plain": [
       "(56719, 7)"
      ]
     },
     "execution_count": 180,
     "metadata": {},
     "output_type": "execute_result"
    }
   ],
   "source": [
    "x_test.shape"
   ]
  },
  {
   "cell_type": "code",
   "execution_count": 181,
   "id": "c23b6f61",
   "metadata": {},
   "outputs": [],
   "source": [
    "# train_df = train_x.drop('pickup_time', axis=1)"
   ]
  },
  {
   "attachments": {},
   "cell_type": "markdown",
   "id": "2d0e878e",
   "metadata": {},
   "source": [
    "## Regression Models"
   ]
  },
  {
   "attachments": {},
   "cell_type": "markdown",
   "id": "1a8e7028",
   "metadata": {},
   "source": [
    "##### Linear regression"
   ]
  },
  {
   "cell_type": "code",
   "execution_count": 182,
   "id": "4f4a3737",
   "metadata": {},
   "outputs": [
    {
     "data": {
      "text/plain": [
       "LinearRegression()"
      ]
     },
     "execution_count": 182,
     "metadata": {},
     "output_type": "execute_result"
    }
   ],
   "source": [
    "from sklearn.linear_model import LinearRegression\n",
    "LR = LinearRegression()\n",
    "LR.fit(x_train,y_train)"
   ]
  },
  {
   "cell_type": "code",
   "execution_count": 183,
   "id": "6e41c8c3",
   "metadata": {},
   "outputs": [],
   "source": [
    "LR_pred = LR.predict(x_test)"
   ]
  },
  {
   "cell_type": "code",
   "execution_count": 184,
   "id": "4b02f436",
   "metadata": {},
   "outputs": [
    {
     "name": "stdout",
     "output_type": "stream",
     "text": [
      "Training set score: 0.65\n",
      "Test set score: 0.5782372\n"
     ]
    }
   ],
   "source": [
    "print(\"Training set score: {:.2f}\".format(LR.score(x_train, y_train)))\n",
    "print(\"Test set score: {:.7f}\".format(LR.score(x_test, y_test)))"
   ]
  },
  {
   "cell_type": "code",
   "execution_count": 185,
   "id": "7fa53a8d",
   "metadata": {},
   "outputs": [],
   "source": [
    "from sklearn import metrics\n",
    "from sklearn.metrics import r2_score\n",
    "\n",
    "MAE_LR= metrics.mean_absolute_error(y_test, LR_pred)\n",
    "MSE_LR= metrics.mean_squared_error(y_test, LR_pred)\n",
    "RMSE_LR= np.sqrt(metrics.mean_squared_error(y_test, LR_pred))\n",
    "r2_LR=r2_score(y_test, LR_pred)\n",
    "Adj_r2_LR=1-(1-r2_score(y_test, LR_pred))*((len(x_test)-1)/(len(x_test)-len(x_test[0])-1))"
   ]
  },
  {
   "cell_type": "code",
   "execution_count": 186,
   "id": "957a3870",
   "metadata": {},
   "outputs": [
    {
     "name": "stdout",
     "output_type": "stream",
     "text": [
      "Mean absolute error of linear regression 0.25739044738591804\n",
      "Mean square  error of linear regression 0.4147342387915012\n",
      "root Mean square error of linear regression 0.6439986326006455\n",
      "r2 score of linear regression 0.5782372370795466\n",
      "adjusted r2 of linear regression 0.5781851777023457\n"
     ]
    }
   ],
   "source": [
    "print('Mean absolute error of linear regression',MAE_LR)\n",
    "print('Mean square  error of linear regression',MSE_LR)\n",
    "print('root Mean square error of linear regression',RMSE_LR)\n",
    "print('r2 score of linear regression',r2_LR)\n",
    "print('adjusted r2 of linear regression',Adj_r2_LR)"
   ]
  },
  {
   "attachments": {},
   "cell_type": "markdown",
   "id": "e5f77def",
   "metadata": {},
   "source": [
    "####  Decision Tree Regressor"
   ]
  },
  {
   "cell_type": "code",
   "execution_count": 187,
   "id": "3603b44b",
   "metadata": {},
   "outputs": [
    {
     "data": {
      "text/plain": [
       "DecisionTreeRegressor()"
      ]
     },
     "execution_count": 187,
     "metadata": {},
     "output_type": "execute_result"
    }
   ],
   "source": [
    "from sklearn.tree import DecisionTreeRegressor\n",
    "\n",
    "DT = DecisionTreeRegressor()\n",
    "DT.fit(x_train, y_train)"
   ]
  },
  {
   "cell_type": "code",
   "execution_count": 188,
   "id": "9f57b486",
   "metadata": {},
   "outputs": [
    {
     "data": {
      "text/plain": [
       "fare_amount           float64\n",
       "passenger_count         int64\n",
       "distance_travelled    float64\n",
       "hour                    int64\n",
       "month                   int64\n",
       "year                    int64\n",
       "dayofweek               int64\n",
       "pickup_hour             int64\n",
       "dtype: object"
      ]
     },
     "execution_count": 188,
     "metadata": {},
     "output_type": "execute_result"
    }
   ],
   "source": [
    "data.dtypes"
   ]
  },
  {
   "cell_type": "code",
   "execution_count": 189,
   "id": "b25a25ba",
   "metadata": {},
   "outputs": [],
   "source": [
    "DTpreds=DT.predict(x_test)"
   ]
  },
  {
   "cell_type": "code",
   "execution_count": 190,
   "id": "9b3e7047",
   "metadata": {},
   "outputs": [
    {
     "name": "stdout",
     "output_type": "stream",
     "text": [
      "Training set score: 1.00\n",
      "Test set score: 0.5444152\n"
     ]
    }
   ],
   "source": [
    "print(\"Training set score: {:.2f}\".format(DT.score(x_train, y_train)))\n",
    "print(\"Test set score: {:.7f}\".format(DT.score(x_test, y_test)))"
   ]
  },
  {
   "cell_type": "code",
   "execution_count": 191,
   "id": "62bfe3b4",
   "metadata": {},
   "outputs": [],
   "source": [
    "MAE_DT= metrics.mean_absolute_error(y_test, DTpreds)\n",
    "MSE_DT= metrics.mean_squared_error(y_test, DTpreds)\n",
    "RMSE_DT= np.sqrt(metrics.mean_squared_error(y_test, DTpreds))\n",
    "r2_DT=r2_score(y_test, DTpreds)\n",
    "Adj_r2_DT=1-(1-r2_score(y_test, DTpreds))*((len(x_test)-1)/(len(x_test)-len(x_test[0])-1))"
   ]
  },
  {
   "cell_type": "code",
   "execution_count": 192,
   "id": "3f5ac250",
   "metadata": {},
   "outputs": [
    {
     "name": "stdout",
     "output_type": "stream",
     "text": [
      "Mean absolute error of decision tree 0.3063634463705478\n",
      "Mean square  error of decision tree 0.44799267311270624\n",
      "root Mean square error of decision tree 0.6693225478890624\n",
      "r2 score of decision tree 0.5444151702287512\n",
      "adjusted r2 of decision tree 0.5443589360976585\n"
     ]
    }
   ],
   "source": [
    "print('Mean absolute error of decision tree',MAE_DT)\n",
    "print('Mean square  error of decision tree',MSE_DT)\n",
    "print('root Mean square error of decision tree',RMSE_DT)\n",
    "print('r2 score of decision tree',r2_DT)\n",
    "print('adjusted r2 of decision tree',Adj_r2_DT)"
   ]
  },
  {
   "attachments": {},
   "cell_type": "markdown",
   "id": "ceddfede",
   "metadata": {},
   "source": [
    "#### Random Forest agressor"
   ]
  },
  {
   "cell_type": "code",
   "execution_count": 193,
   "id": "463df356",
   "metadata": {},
   "outputs": [
    {
     "name": "stderr",
     "output_type": "stream",
     "text": [
      "C:\\Users\\anura\\AppData\\Local\\Temp\\ipykernel_15232\\3802589840.py:4: DataConversionWarning: A column-vector y was passed when a 1d array was expected. Please change the shape of y to (n_samples,), for example using ravel().\n",
      "  RF.fit(x_train, y_train)\n"
     ]
    },
    {
     "data": {
      "text/plain": [
       "RandomForestRegressor()"
      ]
     },
     "execution_count": 193,
     "metadata": {},
     "output_type": "execute_result"
    }
   ],
   "source": [
    "from sklearn.ensemble import RandomForestRegressor\n",
    "\n",
    "RF = RandomForestRegressor()\n",
    "RF.fit(x_train, y_train)"
   ]
  },
  {
   "cell_type": "code",
   "execution_count": 194,
   "id": "2bbf36ca",
   "metadata": {},
   "outputs": [],
   "source": [
    "RFpreds = RF.predict(x_test)"
   ]
  },
  {
   "cell_type": "code",
   "execution_count": 195,
   "id": "dfaa39e1",
   "metadata": {},
   "outputs": [
    {
     "name": "stdout",
     "output_type": "stream",
     "text": [
      "Training set score: 0.97\n",
      "Test set score: 0.7869623\n"
     ]
    }
   ],
   "source": [
    "print(\"Training set score: {:.2f}\".format(RF.score(x_train, y_train)))\n",
    "print(\"Test set score: {:.7f}\".format(RF.score(x_test, y_test)))"
   ]
  },
  {
   "cell_type": "code",
   "execution_count": 196,
   "id": "1fafd598",
   "metadata": {},
   "outputs": [],
   "source": [
    "MAE_RF= metrics.mean_absolute_error(y_test, RFpreds)\n",
    "MSE_RF= metrics.mean_squared_error(y_test, RFpreds)\n",
    "RMSE_RF= np.sqrt(metrics.mean_squared_error(y_test, RFpreds))\n",
    "r2_RF=r2_score(y_test, RFpreds)\n",
    "Adj_r2_RF=1-(1-r2_score(y_test, RFpreds))*((len(x_test)-1)/(len(x_test)-len(x_test[0])-1))"
   ]
  },
  {
   "cell_type": "code",
   "execution_count": 197,
   "id": "3f0cbc99",
   "metadata": {},
   "outputs": [
    {
     "name": "stdout",
     "output_type": "stream",
     "text": [
      "Mean absolute error of Random Forest 0.22542894546659015\n",
      "Mean square  error of Random Forest 0.2094875160538825\n",
      "root Mean square error of Random Forest 0.45769806210413705\n",
      "r2 score of Random Forest 0.7869622874019657\n",
      "adjusted r2 of Random Forest 0.7869359915512809\n"
     ]
    }
   ],
   "source": [
    "print('Mean absolute error of Random Forest',MAE_RF)\n",
    "print('Mean square  error of Random Forest',MSE_RF)\n",
    "print('root Mean square error of Random Forest',RMSE_RF)\n",
    "print('r2 score of Random Forest',r2_RF)\n",
    "print('adjusted r2 of Random Forest',Adj_r2_RF)"
   ]
  },
  {
   "attachments": {},
   "cell_type": "markdown",
   "id": "7b9a7a93",
   "metadata": {},
   "source": [
    "#### Boosting"
   ]
  },
  {
   "cell_type": "code",
   "execution_count": 198,
   "id": "8b74a187",
   "metadata": {},
   "outputs": [],
   "source": [
    "from sklearn.ensemble import GradientBoostingRegressor, AdaBoostRegressor"
   ]
  },
  {
   "attachments": {},
   "cell_type": "markdown",
   "id": "09d93507",
   "metadata": {},
   "source": [
    "#### Gradient Boosting "
   ]
  },
  {
   "cell_type": "code",
   "execution_count": 199,
   "id": "d63607ba",
   "metadata": {},
   "outputs": [
    {
     "name": "stderr",
     "output_type": "stream",
     "text": [
      "c:\\ProgramData\\Anaconda3\\lib\\site-packages\\sklearn\\ensemble\\_gb.py:494: DataConversionWarning: A column-vector y was passed when a 1d array was expected. Please change the shape of y to (n_samples, ), for example using ravel().\n",
      "  y = column_or_1d(y, warn=True)\n"
     ]
    }
   ],
   "source": [
    "gbr=GradientBoostingRegressor(random_state=43)\n",
    "gbr.fit(x_train,y_train)\n",
    "predictions_gbr=gbr.predict(x_test)"
   ]
  },
  {
   "cell_type": "code",
   "execution_count": 200,
   "id": "00705618",
   "metadata": {},
   "outputs": [
    {
     "name": "stdout",
     "output_type": "stream",
     "text": [
      "Training set score: 0.82\n",
      "Test set score: 0.7831503\n"
     ]
    }
   ],
   "source": [
    "print(\"Training set score: {:.2f}\".format(gbr.score(x_train, y_train)))\n",
    "print(\"Test set score: {:.7f}\".format(gbr.score(x_test, y_test)))"
   ]
  },
  {
   "cell_type": "code",
   "execution_count": 201,
   "id": "e7e48d32",
   "metadata": {},
   "outputs": [],
   "source": [
    "MAE_GBR= metrics.mean_absolute_error(y_test, predictions_gbr)\n",
    "MSE_GBR= metrics.mean_squared_error(y_test, predictions_gbr)\n",
    "RMSE_GBR= np.sqrt(metrics.mean_squared_error(y_test, predictions_gbr))\n",
    "r2_GBR=r2_score(y_test, predictions_gbr)\n",
    "Adj_r2_GBR=1-(1-r2_score(y_test, predictions_gbr))*((len(x_test)-1)/(len(x_test)-len(x_test[0])-1))"
   ]
  },
  {
   "cell_type": "code",
   "execution_count": 202,
   "id": "2c93bb2f",
   "metadata": {},
   "outputs": [
    {
     "name": "stdout",
     "output_type": "stream",
     "text": [
      "Mean absolute error of gradient boosting regressor 0.21190385815298493\n",
      "Mean square  error of gradient boosting regressor 0.21323597094964145\n",
      "root Mean square error of gradient boosting regressor 0.46177480545136007\n",
      "r2 score of gradient boosting regressor 0.7831503072333528\n",
      "adjusted r2 of gradient boosting regressor 0.7831235408591156\n"
     ]
    }
   ],
   "source": [
    "print('Mean absolute error of gradient boosting regressor',MAE_GBR)\n",
    "print('Mean square  error of gradient boosting regressor',MSE_GBR)\n",
    "print('root Mean square error of gradient boosting regressor',RMSE_GBR)\n",
    "print('r2 score of gradient boosting regressor',r2_GBR)\n",
    "print('adjusted r2 of gradient boosting regressor',Adj_r2_GBR)"
   ]
  },
  {
   "attachments": {},
   "cell_type": "markdown",
   "id": "5aee8fa7",
   "metadata": {},
   "source": [
    "#### XGBoost Classifier"
   ]
  },
  {
   "cell_type": "code",
   "execution_count": 203,
   "id": "1d8967b8",
   "metadata": {},
   "outputs": [],
   "source": [
    "from xgboost import XGBRegressor"
   ]
  },
  {
   "cell_type": "code",
   "execution_count": 204,
   "id": "99219894",
   "metadata": {},
   "outputs": [],
   "source": [
    "xgb = XGBRegressor(random_state = 42, scale_pos_weight = 1)\n",
    "xgb.fit(x_train, y_train)\n",
    "predictions_xgb = xgb.predict(x_test)"
   ]
  },
  {
   "cell_type": "code",
   "execution_count": 205,
   "id": "a3799ec2",
   "metadata": {},
   "outputs": [
    {
     "name": "stdout",
     "output_type": "stream",
     "text": [
      "Training set score: 0.88\n",
      "Test set score: 0.7884254\n"
     ]
    }
   ],
   "source": [
    "print(\"Training set score: {:.2f}\".format(xgb.score(x_train, y_train)))\n",
    "print(\"Test set score: {:.7f}\".format(xgb.score(x_test, y_test)))"
   ]
  },
  {
   "cell_type": "code",
   "execution_count": 206,
   "id": "c6d4e34b",
   "metadata": {},
   "outputs": [],
   "source": [
    "MAE_XGB= metrics.mean_absolute_error(y_test, predictions_xgb)\n",
    "MSE_XGB= metrics.mean_squared_error(y_test, predictions_xgb)\n",
    "RMSE_XGB= np.sqrt(metrics.mean_squared_error(y_test, predictions_xgb))\n",
    "r2_XGB=r2_score(y_test, predictions_xgb)\n",
    "Adj_r2_XGB=1-(1-r2_score(y_test, predictions_xgb))*((len(x_test)-1)/(len(x_test)-len(x_test[0])-1))"
   ]
  },
  {
   "cell_type": "code",
   "execution_count": 207,
   "id": "54deedbe",
   "metadata": {},
   "outputs": [
    {
     "name": "stdout",
     "output_type": "stream",
     "text": [
      "Mean absolute error of XGB regressor 0.2101110160680902\n",
      "Mean square  error of XGB regressor 0.20804879735112417\n",
      "root Mean square error of XGB regressor 0.4561236645375069\n",
      "r2 score of XGB regressor 0.788425388150312\n",
      "adjusted r2 of XGB regressor 0.7883992728943132\n"
     ]
    }
   ],
   "source": [
    "print('Mean absolute error of XGB regressor',MAE_XGB)\n",
    "print('Mean square  error of XGB regressor',MSE_XGB)\n",
    "print('root Mean square error of XGB regressor',RMSE_XGB)\n",
    "print('r2 score of XGB regressor',r2_XGB)\n",
    "print('adjusted r2 of XGB regressor',Adj_r2_XGB)"
   ]
  },
  {
   "attachments": {},
   "cell_type": "markdown",
   "id": "0f44af78",
   "metadata": {},
   "source": [
    "#### ADAboost Classifier"
   ]
  },
  {
   "cell_type": "code",
   "execution_count": 208,
   "id": "73cc69cb",
   "metadata": {},
   "outputs": [],
   "source": [
    "from sklearn.ensemble import AdaBoostRegressor"
   ]
  },
  {
   "cell_type": "code",
   "execution_count": 209,
   "id": "690ceed6",
   "metadata": {},
   "outputs": [
    {
     "name": "stderr",
     "output_type": "stream",
     "text": [
      "c:\\ProgramData\\Anaconda3\\lib\\site-packages\\sklearn\\utils\\validation.py:993: DataConversionWarning: A column-vector y was passed when a 1d array was expected. Please change the shape of y to (n_samples, ), for example using ravel().\n",
      "  y = column_or_1d(y, warn=True)\n"
     ]
    }
   ],
   "source": [
    "ada = AdaBoostRegressor(n_estimators=50, learning_rate=0.1, random_state=42)\n",
    "ada.fit(x_train, y_train)\n",
    "predictions_ada = ada.predict(x_test)"
   ]
  },
  {
   "cell_type": "code",
   "execution_count": 210,
   "id": "d500c19b",
   "metadata": {},
   "outputs": [],
   "source": [
    "MAE_ada= metrics.mean_absolute_error(y_test, predictions_ada)\n",
    "MSE_ada= metrics.mean_squared_error(y_test, predictions_ada)\n",
    "RMSE_ada= np.sqrt(metrics.mean_squared_error(y_test, predictions_ada))\n",
    "r2_ada=r2_score(y_test, predictions_ada)\n",
    "Adj_r2_ada=1-(1-r2_score(y_test, predictions_ada))*((len(x_test)-1)/(len(x_test)-len(x_test[0])-1))"
   ]
  },
  {
   "cell_type": "code",
   "execution_count": 211,
   "id": "fba1acb3",
   "metadata": {},
   "outputs": [
    {
     "name": "stdout",
     "output_type": "stream",
     "text": [
      "Mean absolute error of ADA regressor 0.31378823439939096\n",
      "Mean square  error of ADA regressor 0.27616059572525387\n",
      "root Mean square error of ADA regressor 0.5255098436045265\n",
      "r2 score of ADA regressor 0.7191592953544489\n",
      "adjusted r2 of ADA regressor 0.7191246303876432\n"
     ]
    }
   ],
   "source": [
    "print('Mean absolute error of ADA regressor',MAE_ada)\n",
    "print('Mean square  error of ADA regressor',MSE_ada)\n",
    "print('root Mean square error of ADA regressor',RMSE_ada)\n",
    "print('r2 score of ADA regressor',r2_ada)\n",
    "print('adjusted r2 of ADA regressor',Adj_r2_ada)"
   ]
  },
  {
   "attachments": {},
   "cell_type": "markdown",
   "id": "e8bfa6b1",
   "metadata": {},
   "source": [
    "#### KNN"
   ]
  },
  {
   "cell_type": "code",
   "execution_count": 212,
   "id": "9e83272b",
   "metadata": {},
   "outputs": [],
   "source": [
    "from sklearn.neighbors import KNeighborsRegressor\n",
    "KNN = KNeighborsRegressor(n_neighbors=5)\n",
    "KNN.fit(x_train, y_train)\n",
    "KNN_pred = KNN.predict(x_test)\n"
   ]
  },
  {
   "cell_type": "code",
   "execution_count": 213,
   "id": "0efc0579",
   "metadata": {},
   "outputs": [],
   "source": [
    "MAE_knn= metrics.mean_absolute_error(y_test, KNN_pred)\n",
    "MSE_knn= metrics.mean_squared_error(y_test, KNN_pred)\n",
    "RMSE_knn= np.sqrt(metrics.mean_squared_error(y_test, KNN_pred))\n",
    "r2_knn=r2_score(y_test, KNN_pred)\n",
    "Adj_r2_knn=1-(1-r2_score(y_test, KNN_pred))*((len(x_test)-1)/(len(x_test)-len(x_test[0])-1))"
   ]
  },
  {
   "cell_type": "code",
   "execution_count": 214,
   "id": "69ebcad2",
   "metadata": {},
   "outputs": [
    {
     "name": "stdout",
     "output_type": "stream",
     "text": [
      "Mean absolute error of ADA regressor 0.2442964813806562\n",
      "Mean square  error of ADA regressor 0.22637780953240647\n",
      "root Mean square error of ADA regressor 0.47579177119030386\n",
      "r2 score of ADA regressor 0.7697857531838183\n",
      "adjusted r2 of ADA regressor 0.7697573371846698\n"
     ]
    }
   ],
   "source": [
    "print('Mean absolute error of ADA regressor',MAE_knn)\n",
    "print('Mean square  error of ADA regressor',MSE_knn)\n",
    "print('root Mean square error of ADA regressor',RMSE_knn)\n",
    "print('r2 score of ADA regressor',r2_knn)\n",
    "print('adjusted r2 of ADA regressor',Adj_r2_knn)"
   ]
  },
  {
   "attachments": {},
   "cell_type": "markdown",
   "id": "37682002",
   "metadata": {},
   "source": [
    "#### Choosing the best model"
   ]
  },
  {
   "cell_type": "code",
   "execution_count": 215,
   "id": "e8099fd2",
   "metadata": {},
   "outputs": [],
   "source": [
    "cols = ['Model', 'MSE', 'RMSE', 'R2_score','MAE','ADJ_r']\n",
    "result_table = pd.DataFrame(columns = cols)"
   ]
  },
  {
   "cell_type": "code",
   "execution_count": 216,
   "id": "1597760b",
   "metadata": {},
   "outputs": [],
   "source": [
    "full_metrics = pd.Series({'Model': \"Linear Regression\", 'MSE': MSE_LR, 'RMSE' : RMSE_LR, 'R2_score' : r2_LR,'MAE':MAE_LR,'ADJ_r':Adj_r2_LR})"
   ]
  },
  {
   "cell_type": "code",
   "execution_count": 217,
   "id": "bab03e6f",
   "metadata": {},
   "outputs": [
    {
     "name": "stderr",
     "output_type": "stream",
     "text": [
      "C:\\Users\\anura\\AppData\\Local\\Temp\\ipykernel_15232\\917985854.py:1: FutureWarning: The frame.append method is deprecated and will be removed from pandas in a future version. Use pandas.concat instead.\n",
      "  result_table = result_table.append(full_metrics, ignore_index = True)\n"
     ]
    }
   ],
   "source": [
    "result_table = result_table.append(full_metrics, ignore_index = True)"
   ]
  },
  {
   "cell_type": "code",
   "execution_count": 218,
   "id": "9cefa37b",
   "metadata": {},
   "outputs": [],
   "source": [
    "full_metrics = pd.Series({'Model': \"Decision Tree\", 'MSE': MSE_DT, 'RMSE' : RMSE_DT, 'R2_score' : r2_DT,'MAE':MAE_DT,'ADJ_r':Adj_r2_DT})"
   ]
  },
  {
   "cell_type": "code",
   "execution_count": 219,
   "id": "965eb272",
   "metadata": {},
   "outputs": [
    {
     "name": "stderr",
     "output_type": "stream",
     "text": [
      "C:\\Users\\anura\\AppData\\Local\\Temp\\ipykernel_15232\\917985854.py:1: FutureWarning: The frame.append method is deprecated and will be removed from pandas in a future version. Use pandas.concat instead.\n",
      "  result_table = result_table.append(full_metrics, ignore_index = True)\n"
     ]
    }
   ],
   "source": [
    "result_table = result_table.append(full_metrics, ignore_index = True)"
   ]
  },
  {
   "cell_type": "code",
   "execution_count": 220,
   "id": "d3be115b",
   "metadata": {},
   "outputs": [],
   "source": [
    "full_metrics = pd.Series({'Model': \"Random Forest\", 'MSE': MSE_RF, 'RMSE' : RMSE_RF, 'R2_score' : r2_RF,'MAE':MAE_RF,'ADJ_r':Adj_r2_RF})"
   ]
  },
  {
   "cell_type": "code",
   "execution_count": 221,
   "id": "4c4885a1",
   "metadata": {},
   "outputs": [
    {
     "name": "stderr",
     "output_type": "stream",
     "text": [
      "C:\\Users\\anura\\AppData\\Local\\Temp\\ipykernel_15232\\917985854.py:1: FutureWarning: The frame.append method is deprecated and will be removed from pandas in a future version. Use pandas.concat instead.\n",
      "  result_table = result_table.append(full_metrics, ignore_index = True)\n"
     ]
    }
   ],
   "source": [
    "result_table = result_table.append(full_metrics, ignore_index = True)"
   ]
  },
  {
   "cell_type": "code",
   "execution_count": 222,
   "id": "6dcb9289",
   "metadata": {},
   "outputs": [],
   "source": [
    "full_metrics = pd.Series({'Model': \"Gradient Boosting\", 'MSE': MSE_GBR, 'RMSE' : RMSE_GBR, 'R2_score' : r2_GBR,'MAE':MAE_GBR,'ADJ_r':Adj_r2_GBR})"
   ]
  },
  {
   "cell_type": "code",
   "execution_count": 223,
   "id": "9e81afe2",
   "metadata": {},
   "outputs": [
    {
     "name": "stderr",
     "output_type": "stream",
     "text": [
      "C:\\Users\\anura\\AppData\\Local\\Temp\\ipykernel_15232\\917985854.py:1: FutureWarning: The frame.append method is deprecated and will be removed from pandas in a future version. Use pandas.concat instead.\n",
      "  result_table = result_table.append(full_metrics, ignore_index = True)\n"
     ]
    }
   ],
   "source": [
    "result_table = result_table.append(full_metrics, ignore_index = True)"
   ]
  },
  {
   "cell_type": "code",
   "execution_count": 224,
   "id": "1b450f96",
   "metadata": {},
   "outputs": [],
   "source": [
    "full_metrics = pd.Series({'Model': \"XGBoost\", 'MSE': MSE_XGB, 'RMSE' : RMSE_XGB, 'R2_score' : r2_XGB,'MAE':MAE_XGB,'ADJ_r':Adj_r2_XGB})"
   ]
  },
  {
   "cell_type": "code",
   "execution_count": 225,
   "id": "a5d45060",
   "metadata": {},
   "outputs": [
    {
     "name": "stderr",
     "output_type": "stream",
     "text": [
      "C:\\Users\\anura\\AppData\\Local\\Temp\\ipykernel_15232\\917985854.py:1: FutureWarning: The frame.append method is deprecated and will be removed from pandas in a future version. Use pandas.concat instead.\n",
      "  result_table = result_table.append(full_metrics, ignore_index = True)\n"
     ]
    }
   ],
   "source": [
    "result_table = result_table.append(full_metrics, ignore_index = True)"
   ]
  },
  {
   "cell_type": "code",
   "execution_count": 226,
   "id": "cab9aaa6",
   "metadata": {},
   "outputs": [],
   "source": [
    "full_metrics = pd.Series({'Model': \"ADABoost\", 'MSE': MSE_ada, 'RMSE' : RMSE_ada, 'R2_score' : r2_ada,'MAE':MAE_ada,'ADJ_r':Adj_r2_ada})"
   ]
  },
  {
   "cell_type": "code",
   "execution_count": 227,
   "id": "b72955f0",
   "metadata": {},
   "outputs": [
    {
     "name": "stderr",
     "output_type": "stream",
     "text": [
      "C:\\Users\\anura\\AppData\\Local\\Temp\\ipykernel_15232\\917985854.py:1: FutureWarning: The frame.append method is deprecated and will be removed from pandas in a future version. Use pandas.concat instead.\n",
      "  result_table = result_table.append(full_metrics, ignore_index = True)\n"
     ]
    }
   ],
   "source": [
    "result_table = result_table.append(full_metrics, ignore_index = True)"
   ]
  },
  {
   "cell_type": "code",
   "execution_count": 228,
   "id": "829d31f4",
   "metadata": {},
   "outputs": [],
   "source": [
    "full_metrics = pd.Series({'Model': \"KNN\", 'MSE': MSE_knn, 'RMSE' : RMSE_knn, 'R2_score' : r2_knn,'MAE':MAE_knn,'ADJ_r':Adj_r2_knn})"
   ]
  },
  {
   "cell_type": "code",
   "execution_count": 229,
   "id": "704e67f7",
   "metadata": {},
   "outputs": [
    {
     "name": "stderr",
     "output_type": "stream",
     "text": [
      "C:\\Users\\anura\\AppData\\Local\\Temp\\ipykernel_15232\\917985854.py:1: FutureWarning: The frame.append method is deprecated and will be removed from pandas in a future version. Use pandas.concat instead.\n",
      "  result_table = result_table.append(full_metrics, ignore_index = True)\n"
     ]
    }
   ],
   "source": [
    "result_table = result_table.append(full_metrics, ignore_index = True)"
   ]
  },
  {
   "cell_type": "code",
   "execution_count": 230,
   "id": "f5de2828",
   "metadata": {},
   "outputs": [
    {
     "data": {
      "text/html": [
       "<div>\n",
       "<style scoped>\n",
       "    .dataframe tbody tr th:only-of-type {\n",
       "        vertical-align: middle;\n",
       "    }\n",
       "\n",
       "    .dataframe tbody tr th {\n",
       "        vertical-align: top;\n",
       "    }\n",
       "\n",
       "    .dataframe thead th {\n",
       "        text-align: right;\n",
       "    }\n",
       "</style>\n",
       "<table border=\"1\" class=\"dataframe\">\n",
       "  <thead>\n",
       "    <tr style=\"text-align: right;\">\n",
       "      <th></th>\n",
       "      <th>Model</th>\n",
       "      <th>MSE</th>\n",
       "      <th>RMSE</th>\n",
       "      <th>R2_score</th>\n",
       "      <th>MAE</th>\n",
       "      <th>ADJ_r</th>\n",
       "    </tr>\n",
       "  </thead>\n",
       "  <tbody>\n",
       "    <tr>\n",
       "      <th>0</th>\n",
       "      <td>Linear Regression</td>\n",
       "      <td>0.414734</td>\n",
       "      <td>0.643999</td>\n",
       "      <td>0.578237</td>\n",
       "      <td>0.25739</td>\n",
       "      <td>0.578185</td>\n",
       "    </tr>\n",
       "    <tr>\n",
       "      <th>1</th>\n",
       "      <td>Decision Tree</td>\n",
       "      <td>0.447993</td>\n",
       "      <td>0.669323</td>\n",
       "      <td>0.544415</td>\n",
       "      <td>0.306363</td>\n",
       "      <td>0.544359</td>\n",
       "    </tr>\n",
       "    <tr>\n",
       "      <th>2</th>\n",
       "      <td>Random Forest</td>\n",
       "      <td>0.209488</td>\n",
       "      <td>0.457698</td>\n",
       "      <td>0.786962</td>\n",
       "      <td>0.225429</td>\n",
       "      <td>0.786936</td>\n",
       "    </tr>\n",
       "    <tr>\n",
       "      <th>3</th>\n",
       "      <td>Gradient Boosting</td>\n",
       "      <td>0.213236</td>\n",
       "      <td>0.461775</td>\n",
       "      <td>0.78315</td>\n",
       "      <td>0.211904</td>\n",
       "      <td>0.783124</td>\n",
       "    </tr>\n",
       "    <tr>\n",
       "      <th>4</th>\n",
       "      <td>XGBoost</td>\n",
       "      <td>0.208049</td>\n",
       "      <td>0.456124</td>\n",
       "      <td>0.788425</td>\n",
       "      <td>0.210111</td>\n",
       "      <td>0.788399</td>\n",
       "    </tr>\n",
       "    <tr>\n",
       "      <th>5</th>\n",
       "      <td>ADABoost</td>\n",
       "      <td>0.276161</td>\n",
       "      <td>0.52551</td>\n",
       "      <td>0.719159</td>\n",
       "      <td>0.313788</td>\n",
       "      <td>0.719125</td>\n",
       "    </tr>\n",
       "    <tr>\n",
       "      <th>6</th>\n",
       "      <td>KNN</td>\n",
       "      <td>0.226378</td>\n",
       "      <td>0.475792</td>\n",
       "      <td>0.769786</td>\n",
       "      <td>0.244296</td>\n",
       "      <td>0.769757</td>\n",
       "    </tr>\n",
       "  </tbody>\n",
       "</table>\n",
       "</div>"
      ],
      "text/plain": [
       "               Model       MSE      RMSE  R2_score       MAE     ADJ_r\n",
       "0  Linear Regression  0.414734  0.643999  0.578237   0.25739  0.578185\n",
       "1      Decision Tree  0.447993  0.669323  0.544415  0.306363  0.544359\n",
       "2      Random Forest  0.209488  0.457698  0.786962  0.225429  0.786936\n",
       "3  Gradient Boosting  0.213236  0.461775   0.78315  0.211904  0.783124\n",
       "4            XGBoost  0.208049  0.456124  0.788425  0.210111  0.788399\n",
       "5           ADABoost  0.276161   0.52551  0.719159  0.313788  0.719125\n",
       "6                KNN  0.226378  0.475792  0.769786  0.244296  0.769757"
      ]
     },
     "execution_count": 230,
     "metadata": {},
     "output_type": "execute_result"
    }
   ],
   "source": [
    "result_table"
   ]
  },
  {
   "attachments": {},
   "cell_type": "markdown",
   "id": "9a971702",
   "metadata": {},
   "source": [
    "Based on the above, Random Forest produces the best results out of all tested models. However, hyperparameter tuning could help improve the results"
   ]
  },
  {
   "cell_type": "code",
   "execution_count": 231,
   "id": "225068c4",
   "metadata": {},
   "outputs": [
    {
     "name": "stderr",
     "output_type": "stream",
     "text": [
      "C:\\Users\\anura\\AppData\\Local\\Temp\\ipykernel_15232\\3343157721.py:7: DataConversionWarning: A column-vector y was passed when a 1d array was expected. Please change the shape of y to (n_samples,), for example using ravel().\n",
      "  best_model.fit(x_train, y_train)\n"
     ]
    }
   ],
   "source": [
    "import pickle\n",
    "\n",
    "# # train your model and get the best model\n",
    "best_model = RandomForestRegressor()\n",
    "\n",
    "# # fit the model on the training data\n",
    "best_model.fit(x_train, y_train)\n",
    "\n",
    "#  save the best model using pickle\n",
    "filename = 'finalized_model.sav'\n",
    "pickle.dump(best_model, open(filename, 'wb'))"
   ]
  },
  {
   "attachments": {},
   "cell_type": "markdown",
   "id": "fcbddc95",
   "metadata": {},
   "source": [
    "# Testing Data"
   ]
  },
  {
   "cell_type": "code",
   "execution_count": null,
   "id": "91c03e5f",
   "metadata": {},
   "outputs": [],
   "source": []
  }
 ],
 "metadata": {
  "kernelspec": {
   "display_name": "Python 3 (ipykernel)",
   "language": "python",
   "name": "python3"
  },
  "language_info": {
   "codemirror_mode": {
    "name": "ipython",
    "version": 3
   },
   "file_extension": ".py",
   "mimetype": "text/x-python",
   "name": "python",
   "nbconvert_exporter": "python",
   "pygments_lexer": "ipython3",
   "version": "3.9.12"
  }
 },
 "nbformat": 4,
 "nbformat_minor": 5
}
